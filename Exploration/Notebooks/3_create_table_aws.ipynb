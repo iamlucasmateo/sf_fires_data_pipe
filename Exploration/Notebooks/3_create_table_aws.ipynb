{
 "cells": [
  {
   "cell_type": "code",
   "execution_count": 1,
   "metadata": {},
   "outputs": [],
   "source": [
    "import mysql.connector\n",
    "from mysql.connector import errorcode\n",
    "from config import rds_config"
   ]
  },
  {
   "cell_type": "code",
   "execution_count": 2,
   "metadata": {},
   "outputs": [],
   "source": [
    "CONFIG_USER = rds_config[\"user\"]\n",
    "CONFIG_PASSWORD = rds_config[\"password\"]\n",
    "CONFIG_HOST = rds_config[\"host\"]\n",
    "\n",
    "conn = mysql.connector.connect(\n",
    "    user=CONFIG_USER, \n",
    "    password=CONFIG_PASSWORD,\n",
    "    host=CONFIG_HOST,\n",
    "    buffered=True\n",
    ")\n",
    "\n",
    "cursor = conn.cursor()"
   ]
  },
  {
   "cell_type": "code",
   "execution_count": 3,
   "metadata": {},
   "outputs": [],
   "source": [
    "DB_NAME = 'sf_fires_testing'"
   ]
  },
  {
   "cell_type": "code",
   "execution_count": 4,
   "metadata": {},
   "outputs": [
    {
     "name": "stdout",
     "output_type": "stream",
     "text": [
      "Using sf_fires_testing\n"
     ]
    }
   ],
   "source": [
    "def create_database(cursor):\n",
    "    try:\n",
    "        statement = f\"CREATE DATABASE {DB_NAME} DEFAULT CHARACTER SET 'utf8'\"\n",
    "        cursor.execute(statement)\n",
    "    except mysql.connector.Error as err:\n",
    "        print(f\"Failed creating database: {err}\")\n",
    "\n",
    "try:\n",
    "    cursor.execute(f\"USE {DB_NAME}\")\n",
    "    print(f\"Using {DB_NAME}\")\n",
    "except mysql.connector.Error as err:\n",
    "    print(f\"Database {DB_NAME} does not exist\")\n",
    "    if err.errno == mysql.connector.errorcode.ER_BAD_DB_ERROR:\n",
    "        create_database(cursor)\n",
    "        print(f\"Database {DB_NAME} created successfully.\")\n",
    "        conn.database = DB_NAME\n",
    "    else:\n",
    "        print(err)"
   ]
  },
  {
   "cell_type": "code",
   "execution_count": 5,
   "metadata": {},
   "outputs": [
    {
     "name": "stdout",
     "output_type": "stream",
     "text": [
      "information_schema\n",
      "mysql\n",
      "performance_schema\n",
      "sf_fires_testing\n",
      "sys\n"
     ]
    }
   ],
   "source": [
    "query = \"show databases\"\n",
    "cursor.execute(query)\n",
    "for db in cursor:\n",
    "     print(db[0])"
   ]
  },
  {
   "cell_type": "markdown",
   "metadata": {},
   "source": [
    "### Create Table"
   ]
  },
  {
   "cell_type": "code",
   "execution_count": 6,
   "metadata": {},
   "outputs": [],
   "source": [
    "import json"
   ]
  },
  {
   "cell_type": "code",
   "execution_count": 6,
   "metadata": {},
   "outputs": [],
   "source": [
    "import pickle\n",
    "\n",
    "with open('../Files/rs_data_types.pickle', 'rb') as handle:\n",
    "    columns = pickle.load(handle)"
   ]
  },
  {
   "cell_type": "code",
   "execution_count": 7,
   "metadata": {},
   "outputs": [
    {
     "name": "stdout",
     "output_type": "stream",
     "text": [
      "['incident_number', 'exposure_number', 'suppression_units', 'suppression_personnel', 'ems_units', 'ems_personnel', 'other_units', 'other_personnel', 'estimated_property_loss', 'estimated_contents_loss', 'fire_fatalities', 'fire_injuries', 'civilian_fatalities', 'civilian_injuries', 'number_of_alarms', 'floor_of_fire_origin', 'number_of_floors_with_minimum_damage', 'number_of_floors_with_significant_damage', 'number_of_floors_with_heavy_damage', 'number_of_floors_with_extreme_damage', 'number_of_sprinkler_heads_operating', 'incident_date', 'alarm_dttm', 'arrival_dttm', 'id', 'address', 'call_number', 'close_dttm', 'city', 'zipcode', 'battalion', 'station_area', 'box', 'first_unit_on_scene', 'primary_situation', 'mutual_aid', 'action_taken_primary', 'action_taken_secondary', 'action_taken_other', 'detector_alerted_occupants', 'property_use', 'area_of_fire_origin', 'ignition_cause', 'ignition_factor_primary', 'ignition_factor_secondary', 'heat_source', 'item_first_ignited', 'human_factors_associated_with_ignition', 'structure_type', 'structure_status', 'fire_spread', 'no_flame_spead', 'detectors_present', 'detector_type', 'detector_operation', 'detector_effectiveness', 'detector_failure_reason', 'automatic_extinguishing_system_present', 'automatic_extinguishing_sytem_type', 'automatic_extinguishing_sytem_perfomance', 'automatic_extinguishing_sytem_failure_reason', 'supervisor_district', 'neighborhood_district', 'latitude', 'longitude']\n"
     ]
    }
   ],
   "source": [
    "print(list(columns.keys()))"
   ]
  },
  {
   "cell_type": "code",
   "execution_count": 8,
   "metadata": {},
   "outputs": [
    {
     "name": "stdout",
     "output_type": "stream",
     "text": [
      "incident_number INTEGER\n",
      "exposure_number SMALLINT\n",
      "suppression_units SMALLINT\n",
      "suppression_personnel SMALLINT\n",
      "ems_units SMALLINT\n",
      "ems_personnel SMALLINT\n",
      "other_units SMALLINT\n"
     ]
    }
   ],
   "source": [
    "for i, (k, v) in enumerate(columns.items()):\n",
    "    print(k, v)\n",
    "    if i > 5: break"
   ]
  },
  {
   "cell_type": "code",
   "execution_count": 9,
   "metadata": {},
   "outputs": [],
   "source": [
    "# Redshift\n",
    "create_str = \"CREATE TABLE IF NOT EXISTS sf_fires.sf_fires (\"\n",
    "for k, v in columns.items():\n",
    "    create_str += f\"{k.lower()} {v},\"\n",
    "create_str += \"PRIMARY KEY (id)) DISTKEY(id)\"\n",
    "create_str += \" COMPOUND SORTKEY(incident_date, battalion, neighborhood_district)\"\n",
    "\n",
    "# incident_date, \n",
    "\n",
    "# MySQL\n",
    "# create_str = \"CREATE TABLE IF NOT EXISTS sf_fires (\"\n",
    "# for k, v in columns.items():\n",
    "#     create_str += f\"`{k.lower()}` {v},\"\n",
    "# create_str += \"PRIMARY KEY (id)) ENGINE=InnoDB\""
   ]
  },
  {
   "cell_type": "code",
   "execution_count": 10,
   "metadata": {},
   "outputs": [
    {
     "data": {
      "text/plain": [
       "'CREATE TABLE IF NOT EXISTS sf_fires.sf_fires (incident_number INTEGER,exposure_number SMALLINT,suppression_units SMALLINT,suppression_personnel SMALLINT,ems_units SMALLINT,ems_personnel SMALLINT,other_units SMALLINT,other_personnel SMALLINT,estimated_property_loss DECIMAL(12,3),estimated_contents_loss DECIMAL(12,3),fire_fatalities SMALLINT,fire_injuries SMALLINT,civilian_fatalities SMALLINT,civilian_injuries SMALLINT,number_of_alarms SMALLINT,floor_of_fire_origin DECIMAL(7,2),number_of_floors_with_minimum_damage DECIMAL(7,2),number_of_floors_with_significant_damage DECIMAL(7,2),number_of_floors_with_heavy_damage DECIMAL(7,2),number_of_floors_with_extreme_damage DECIMAL(7,2),number_of_sprinkler_heads_operating DECIMAL(7,2),incident_date TIMESTAMP,alarm_dttm TIMESTAMP,arrival_dttm TIMESTAMP,id VARCHAR,address VARCHAR,call_number VARCHAR,close_dttm VARCHAR,city VARCHAR,zipcode VARCHAR,battalion VARCHAR,station_area VARCHAR,box VARCHAR,first_unit_on_scene VARCHAR,primary_situation VARCHAR,mutual_aid VARCHAR,action_taken_primary VARCHAR,action_taken_secondary VARCHAR,action_taken_other VARCHAR,detector_alerted_occupants VARCHAR,property_use VARCHAR,area_of_fire_origin VARCHAR,ignition_cause VARCHAR,ignition_factor_primary VARCHAR,ignition_factor_secondary VARCHAR,heat_source VARCHAR,item_first_ignited VARCHAR,human_factors_associated_with_ignition VARCHAR,structure_type VARCHAR,structure_status VARCHAR,fire_spread VARCHAR,no_flame_spead VARCHAR,detectors_present VARCHAR,detector_type VARCHAR,detector_operation VARCHAR,detector_effectiveness VARCHAR,detector_failure_reason VARCHAR,automatic_extinguishing_system_present VARCHAR,automatic_extinguishing_sytem_type VARCHAR,automatic_extinguishing_sytem_perfomance VARCHAR,automatic_extinguishing_sytem_failure_reason VARCHAR,supervisor_district VARCHAR,neighborhood_district VARCHAR,latitude DECIMAL(9,6),longitude DECIMAL(9,6),PRIMARY KEY (id)) DISTKEY(id) COMPOUND SORTKEY(incident_date, battalion, neighborhood_district)'"
      ]
     },
     "execution_count": 10,
     "metadata": {},
     "output_type": "execute_result"
    }
   ],
   "source": [
    "create_str"
   ]
  },
  {
   "cell_type": "code",
   "execution_count": 11,
   "metadata": {},
   "outputs": [],
   "source": [
    "drop_table_query = f\"DROP TABLE IF EXISTS `sf_fires`\"\n",
    "cursor.execute(drop_table_query)"
   ]
  },
  {
   "cell_type": "code",
   "execution_count": 12,
   "metadata": {},
   "outputs": [
    {
     "name": "stdout",
     "output_type": "stream",
     "text": [
      "table created\n"
     ]
    }
   ],
   "source": [
    "create_str = \"CREATE TABLE IF NOT EXISTS sf_fires (\"\n",
    "for k, v in columns.items():\n",
    "    create_str += f\"`{k.lower()}` {v},\"\n",
    "create_str += \"PRIMARY KEY (id)) ENGINE=InnoDB\"\n",
    "\n",
    "try:\n",
    "    cursor.execute(create_str)\n",
    "    print(\"table created\")\n",
    "except mysql.connector.Error as err:\n",
    "    if err.errno == errorcode.ER_TABLE_EXISTS_ERROR:\n",
    "        print(\"This table already exists\")\n",
    "    else:\n",
    "        print(err.msg)"
   ]
  },
  {
   "cell_type": "code",
   "execution_count": 13,
   "metadata": {},
   "outputs": [
    {
     "name": "stdout",
     "output_type": "stream",
     "text": [
      "('def', 'mysql', 'innodb_table_stats', 'BASE TABLE', 'InnoDB', 10, 'Dynamic', 11, 1489, 16384, 0, 0, 4194304, None, datetime.datetime(2021, 2, 23, 20, 24, 43), datetime.datetime(2021, 11, 29, 20, 11, 53), None, 'utf8_bin', None, 'row_format=DYNAMIC stats_persistent=0', '')\n"
     ]
    }
   ],
   "source": [
    "select_query = \"SELECT * FROM information_schema.tables\"\n",
    "cursor.execute(select_query)\n",
    "tables = cursor.fetchall()\n",
    "print(tables[0])"
   ]
  },
  {
   "cell_type": "markdown",
   "metadata": {},
   "source": [
    "### Populate Table"
   ]
  },
  {
   "cell_type": "code",
   "execution_count": 14,
   "metadata": {},
   "outputs": [],
   "source": [
    "import json"
   ]
  },
  {
   "cell_type": "code",
   "execution_count": 15,
   "metadata": {},
   "outputs": [],
   "source": [
    "with open('../Data/data.json') as json_file:\n",
    "    data = json.load(json_file)"
   ]
  },
  {
   "cell_type": "code",
   "execution_count": 16,
   "metadata": {},
   "outputs": [],
   "source": [
    "data_short = data[:1000]"
   ]
  },
  {
   "cell_type": "code",
   "execution_count": 17,
   "metadata": {},
   "outputs": [
    {
     "data": {
      "text/plain": [
       "'INSERT INTO sf_fires (incident_number, exposure_number, suppression_units, suppression_personnel, ems_units, ems_personnel, other_units, other_personnel, estimated_property_loss, estimated_contents_loss, fire_fatalities, fire_injuries, civilian_fatalities, civilian_injuries, number_of_alarms, floor_of_fire_origin, number_of_floors_with_minimum_damage, number_of_floors_with_significant_damage, number_of_floors_with_heavy_damage, number_of_floors_with_extreme_damage, number_of_sprinkler_heads_operating, incident_date, alarm_dttm, arrival_dttm, id, address, call_number, close_dttm, city, zipcode, battalion, station_area, box, first_unit_on_scene, primary_situation, mutual_aid, action_taken_primary, action_taken_secondary, action_taken_other, detector_alerted_occupants, property_use, area_of_fire_origin, ignition_cause, ignition_factor_primary, ignition_factor_secondary, heat_source, item_first_ignited, human_factors_associated_with_ignition, structure_type, structure_status, fire_spread, no_flame_spead, detectors_present, detector_type, detector_operation, detector_effectiveness, detector_failure_reason, automatic_extinguishing_system_present, automatic_extinguishing_sytem_type, automatic_extinguishing_sytem_perfomance, automatic_extinguishing_sytem_failure_reason, supervisor_district, neighborhood_district, point) VALUES (%(incident_number)s, %(exposure_number)s, %(suppression_units)s, %(suppression_personnel)s, %(ems_units)s, %(ems_personnel)s, %(other_units)s, %(other_personnel)s, %(estimated_property_loss)s, %(estimated_contents_loss)s, %(fire_fatalities)s, %(fire_injuries)s, %(civilian_fatalities)s, %(civilian_injuries)s, %(number_of_alarms)s, %(floor_of_fire_origin)s, %(number_of_floors_with_minimum_damage)s, %(number_of_floors_with_significant_damage)s, %(number_of_floors_with_heavy_damage)s, %(number_of_floors_with_extreme_damage)s, %(number_of_sprinkler_heads_operating)s, %(incident_date)s, %(alarm_dttm)s, %(arrival_dttm)s, %(id)s, %(address)s, %(call_number)s, %(close_dttm)s, %(city)s, %(zipcode)s, %(battalion)s, %(station_area)s, %(box)s, %(first_unit_on_scene)s, %(primary_situation)s, %(mutual_aid)s, %(action_taken_primary)s, %(action_taken_secondary)s, %(action_taken_other)s, %(detector_alerted_occupants)s, %(property_use)s, %(area_of_fire_origin)s, %(ignition_cause)s, %(ignition_factor_primary)s, %(ignition_factor_secondary)s, %(heat_source)s, %(item_first_ignited)s, %(human_factors_associated_with_ignition)s, %(structure_type)s, %(structure_status)s, %(fire_spread)s, %(no_flame_spead)s, %(detectors_present)s, %(detector_type)s, %(detector_operation)s, %(detector_effectiveness)s, %(detector_failure_reason)s, %(automatic_extinguishing_system_present)s, %(automatic_extinguishing_sytem_type)s, %(automatic_extinguishing_sytem_perfomance)s, %(automatic_extinguishing_sytem_failure_reason)s, %(supervisor_district)s, %(neighborhood_district)s, %(point)s)'"
      ]
     },
     "execution_count": 17,
     "metadata": {},
     "output_type": "execute_result"
    }
   ],
   "source": [
    "# building INSERT query\n",
    "insert_query = \"INSERT INTO sf_fires (\"\n",
    "for col in columns:\n",
    "    insert_query += f\"{col}, \"\n",
    "insert_query = f\"{insert_query[:-2]}) VALUES (\"\n",
    "\n",
    "for col in columns:\n",
    "    insert_query += f\"%({col})s, \"\n",
    "insert_query = f\"{insert_query[:-2]})\"\n",
    "insert_query"
   ]
  },
  {
   "cell_type": "code",
   "execution_count": 18,
   "metadata": {},
   "outputs": [],
   "source": [
    "for item in data_short:\n",
    "    insert_query_values = { k:(item[k] if k in item.keys() else None) for k in columns }\n",
    "    insert_query_values[\"point\"] = str(item[\"point\"][\"coordinates\"])\n",
    "    cursor.execute(insert_query, insert_query_values)\n",
    "conn.commit()"
   ]
  },
  {
   "cell_type": "code",
   "execution_count": 21,
   "metadata": {},
   "outputs": [],
   "source": [
    "import pandas as pd\n",
    "from sqlalchemy import create_engine"
   ]
  },
  {
   "cell_type": "code",
   "execution_count": 22,
   "metadata": {},
   "outputs": [],
   "source": [
    "df = pd.DataFrame(data)"
   ]
  },
  {
   "cell_type": "code",
   "execution_count": 23,
   "metadata": {},
   "outputs": [],
   "source": [
    "for col, data_type in columns.items():\n",
    "    if \"INT\" in data_type:\n",
    "        df[col] = pd.to_numeric(df[col], downcast=\"integer\")\n",
    "    elif \"TIME\" in data_type:\n",
    "        df[col] = pd.to_datetime(df[col])"
   ]
  },
  {
   "cell_type": "code",
   "execution_count": 24,
   "metadata": {},
   "outputs": [],
   "source": [
    "conn.close()"
   ]
  },
  {
   "cell_type": "code",
   "execution_count": 25,
   "metadata": {},
   "outputs": [],
   "source": [
    "SQL_USER = rds_config[\"user\"]\n",
    "SQL_PASSWORD = rds_config[\"password\"]\n",
    "HOST = rds_config[\"host\"]\n",
    "DB_NAME = \"sf_fires_testing\"\n",
    "MYSQL_CONN = \"mysqlconnector\"\n",
    "sql_config = f\"mysql+{MYSQL_CONN}://{SQL_USER}:{SQL_PASSWORD}@{HOST}/{DB_NAME}\"\n",
    "sql_engine = create_engine(sql_config)\n",
    "conn = sql_engine.connect()"
   ]
  },
  {
   "cell_type": "code",
   "execution_count": 30,
   "metadata": {},
   "outputs": [
    {
     "data": {
      "text/plain": [
       "{'type': 'Point', 'coordinates': [-122.41837339, 37.74208979]}"
      ]
     },
     "execution_count": 30,
     "metadata": {},
     "output_type": "execute_result"
    }
   ],
   "source": [
    "df.at[0, \"point\"]"
   ]
  },
  {
   "cell_type": "code",
   "execution_count": 34,
   "metadata": {},
   "outputs": [],
   "source": [
    "import numpy as np"
   ]
  },
  {
   "cell_type": "code",
   "execution_count": 39,
   "metadata": {},
   "outputs": [
    {
     "data": {
      "text/plain": [
       "True"
      ]
     },
     "execution_count": 39,
     "metadata": {},
     "output_type": "execute_result"
    }
   ],
   "source": [
    "np.isnan(df.at[91011, \"point\"])"
   ]
  },
  {
   "cell_type": "code",
   "execution_count": 41,
   "metadata": {},
   "outputs": [
    {
     "data": {
      "text/plain": [
       "86396     NaN\n",
       "88761     NaN\n",
       "91011     NaN\n",
       "248997    NaN\n",
       "259669    NaN\n",
       "Name: point, dtype: object"
      ]
     },
     "execution_count": 41,
     "metadata": {},
     "output_type": "execute_result"
    }
   ],
   "source": [
    "df[\"point\"][df[\"point\"].isna()][:5]"
   ]
  },
  {
   "cell_type": "code",
   "execution_count": 50,
   "metadata": {},
   "outputs": [
    {
     "ename": "ValueError",
     "evalue": "dictionary update sequence element #0 has length 1; 2 is required",
     "output_type": "error",
     "traceback": [
      "\u001b[0;31m---------------------------------------------------------------------------\u001b[0m",
      "\u001b[0;31mValueError\u001b[0m                                Traceback (most recent call last)",
      "\u001b[0;32m/tmp/ipykernel_5566/3398257522.py\u001b[0m in \u001b[0;36m<module>\u001b[0;34m\u001b[0m\n\u001b[1;32m      5\u001b[0m         \u001b[0;32mreturn\u001b[0m \u001b[0mstr\u001b[0m\u001b[0;34m(\u001b[0m\u001b[0mdict\u001b[0m\u001b[0;34m(\u001b[0m\u001b[0mpoint\u001b[0m\u001b[0;34m)\u001b[0m\u001b[0;34m[\u001b[0m\u001b[0;34m\"coordinates\"\u001b[0m\u001b[0;34m]\u001b[0m\u001b[0;34m)\u001b[0m\u001b[0;34m\u001b[0m\u001b[0;34m\u001b[0m\u001b[0m\n\u001b[1;32m      6\u001b[0m \u001b[0;34m\u001b[0m\u001b[0m\n\u001b[0;32m----> 7\u001b[0;31m \u001b[0mdf\u001b[0m\u001b[0;34m[\u001b[0m\u001b[0;34m\"point\"\u001b[0m\u001b[0;34m]\u001b[0m \u001b[0;34m=\u001b[0m \u001b[0mdf\u001b[0m\u001b[0;34m[\u001b[0m\u001b[0;34m\"point\"\u001b[0m\u001b[0;34m]\u001b[0m\u001b[0;34m.\u001b[0m\u001b[0mapply\u001b[0m\u001b[0;34m(\u001b[0m\u001b[0mget_coords\u001b[0m\u001b[0;34m)\u001b[0m\u001b[0;34m\u001b[0m\u001b[0;34m\u001b[0m\u001b[0m\n\u001b[0m",
      "\u001b[0;32m~/Desktop/CODE/jobs/TrueNorth/venv/lib/python3.8/site-packages/pandas/core/series.py\u001b[0m in \u001b[0;36mapply\u001b[0;34m(self, func, convert_dtype, args, **kwargs)\u001b[0m\n\u001b[1;32m   4355\u001b[0m         \u001b[0mdtype\u001b[0m\u001b[0;34m:\u001b[0m \u001b[0mfloat64\u001b[0m\u001b[0;34m\u001b[0m\u001b[0;34m\u001b[0m\u001b[0m\n\u001b[1;32m   4356\u001b[0m         \"\"\"\n\u001b[0;32m-> 4357\u001b[0;31m         \u001b[0;32mreturn\u001b[0m \u001b[0mSeriesApply\u001b[0m\u001b[0;34m(\u001b[0m\u001b[0mself\u001b[0m\u001b[0;34m,\u001b[0m \u001b[0mfunc\u001b[0m\u001b[0;34m,\u001b[0m \u001b[0mconvert_dtype\u001b[0m\u001b[0;34m,\u001b[0m \u001b[0margs\u001b[0m\u001b[0;34m,\u001b[0m \u001b[0mkwargs\u001b[0m\u001b[0;34m)\u001b[0m\u001b[0;34m.\u001b[0m\u001b[0mapply\u001b[0m\u001b[0;34m(\u001b[0m\u001b[0;34m)\u001b[0m\u001b[0;34m\u001b[0m\u001b[0;34m\u001b[0m\u001b[0m\n\u001b[0m\u001b[1;32m   4358\u001b[0m \u001b[0;34m\u001b[0m\u001b[0m\n\u001b[1;32m   4359\u001b[0m     def _reduce(\n",
      "\u001b[0;32m~/Desktop/CODE/jobs/TrueNorth/venv/lib/python3.8/site-packages/pandas/core/apply.py\u001b[0m in \u001b[0;36mapply\u001b[0;34m(self)\u001b[0m\n\u001b[1;32m   1041\u001b[0m             \u001b[0;32mreturn\u001b[0m \u001b[0mself\u001b[0m\u001b[0;34m.\u001b[0m\u001b[0mapply_str\u001b[0m\u001b[0;34m(\u001b[0m\u001b[0;34m)\u001b[0m\u001b[0;34m\u001b[0m\u001b[0;34m\u001b[0m\u001b[0m\n\u001b[1;32m   1042\u001b[0m \u001b[0;34m\u001b[0m\u001b[0m\n\u001b[0;32m-> 1043\u001b[0;31m         \u001b[0;32mreturn\u001b[0m \u001b[0mself\u001b[0m\u001b[0;34m.\u001b[0m\u001b[0mapply_standard\u001b[0m\u001b[0;34m(\u001b[0m\u001b[0;34m)\u001b[0m\u001b[0;34m\u001b[0m\u001b[0;34m\u001b[0m\u001b[0m\n\u001b[0m\u001b[1;32m   1044\u001b[0m \u001b[0;34m\u001b[0m\u001b[0m\n\u001b[1;32m   1045\u001b[0m     \u001b[0;32mdef\u001b[0m \u001b[0magg\u001b[0m\u001b[0;34m(\u001b[0m\u001b[0mself\u001b[0m\u001b[0;34m)\u001b[0m\u001b[0;34m:\u001b[0m\u001b[0;34m\u001b[0m\u001b[0;34m\u001b[0m\u001b[0m\n",
      "\u001b[0;32m~/Desktop/CODE/jobs/TrueNorth/venv/lib/python3.8/site-packages/pandas/core/apply.py\u001b[0m in \u001b[0;36mapply_standard\u001b[0;34m(self)\u001b[0m\n\u001b[1;32m   1096\u001b[0m                 \u001b[0;31m# List[Union[Callable[..., Any], str]]]]]\"; expected\u001b[0m\u001b[0;34m\u001b[0m\u001b[0;34m\u001b[0m\u001b[0;34m\u001b[0m\u001b[0m\n\u001b[1;32m   1097\u001b[0m                 \u001b[0;31m# \"Callable[[Any], Any]\"\u001b[0m\u001b[0;34m\u001b[0m\u001b[0;34m\u001b[0m\u001b[0;34m\u001b[0m\u001b[0m\n\u001b[0;32m-> 1098\u001b[0;31m                 mapped = lib.map_infer(\n\u001b[0m\u001b[1;32m   1099\u001b[0m                     \u001b[0mvalues\u001b[0m\u001b[0;34m,\u001b[0m\u001b[0;34m\u001b[0m\u001b[0;34m\u001b[0m\u001b[0m\n\u001b[1;32m   1100\u001b[0m                     \u001b[0mf\u001b[0m\u001b[0;34m,\u001b[0m  \u001b[0;31m# type: ignore[arg-type]\u001b[0m\u001b[0;34m\u001b[0m\u001b[0;34m\u001b[0m\u001b[0m\n",
      "\u001b[0;32m~/Desktop/CODE/jobs/TrueNorth/venv/lib/python3.8/site-packages/pandas/_libs/lib.pyx\u001b[0m in \u001b[0;36mpandas._libs.lib.map_infer\u001b[0;34m()\u001b[0m\n",
      "\u001b[0;32m/tmp/ipykernel_5566/3398257522.py\u001b[0m in \u001b[0;36mget_coords\u001b[0;34m(point)\u001b[0m\n\u001b[1;32m      3\u001b[0m         \u001b[0;32mreturn\u001b[0m \u001b[0;32mNone\u001b[0m\u001b[0;34m\u001b[0m\u001b[0;34m\u001b[0m\u001b[0m\n\u001b[1;32m      4\u001b[0m     \u001b[0;32melse\u001b[0m\u001b[0;34m:\u001b[0m\u001b[0;34m\u001b[0m\u001b[0;34m\u001b[0m\u001b[0m\n\u001b[0;32m----> 5\u001b[0;31m         \u001b[0;32mreturn\u001b[0m \u001b[0mstr\u001b[0m\u001b[0;34m(\u001b[0m\u001b[0mdict\u001b[0m\u001b[0;34m(\u001b[0m\u001b[0mpoint\u001b[0m\u001b[0;34m)\u001b[0m\u001b[0;34m[\u001b[0m\u001b[0;34m\"coordinates\"\u001b[0m\u001b[0;34m]\u001b[0m\u001b[0;34m)\u001b[0m\u001b[0;34m\u001b[0m\u001b[0;34m\u001b[0m\u001b[0m\n\u001b[0m\u001b[1;32m      6\u001b[0m \u001b[0;34m\u001b[0m\u001b[0m\n\u001b[1;32m      7\u001b[0m \u001b[0mdf\u001b[0m\u001b[0;34m[\u001b[0m\u001b[0;34m\"point\"\u001b[0m\u001b[0;34m]\u001b[0m \u001b[0;34m=\u001b[0m \u001b[0mdf\u001b[0m\u001b[0;34m[\u001b[0m\u001b[0;34m\"point\"\u001b[0m\u001b[0;34m]\u001b[0m\u001b[0;34m.\u001b[0m\u001b[0mapply\u001b[0m\u001b[0;34m(\u001b[0m\u001b[0mget_coords\u001b[0m\u001b[0;34m)\u001b[0m\u001b[0;34m\u001b[0m\u001b[0;34m\u001b[0m\u001b[0m\n",
      "\u001b[0;31mValueError\u001b[0m: dictionary update sequence element #0 has length 1; 2 is required"
     ]
    }
   ],
   "source": [
    "def get_coords(point):\n",
    "    if not point:\n",
    "        return None\n",
    "    else:\n",
    "        return str(dict(point)[\"coordinates\"])\n",
    "\n",
    "df[\"point\"] = df[\"point\"].apply(get_coords)"
   ]
  },
  {
   "cell_type": "code",
   "execution_count": 51,
   "metadata": {},
   "outputs": [],
   "source": [
    "for i in df.index:\n",
    "    value = df.at[i, \"point\"]\n",
    "    try:\n",
    "        df.at[i, \"point\"] = str(value[\"coordinates\"])\n",
    "    except:\n",
    "        df.at[i, \"point\"] = None"
   ]
  },
  {
   "cell_type": "code",
   "execution_count": 76,
   "metadata": {},
   "outputs": [],
   "source": [
    "try:\n",
    "    df.to_sql(\"sf_fires\", conn, if_exists=\"replace\")\n",
    "except Exception as err:\n",
    "    print(err)"
   ]
  },
  {
   "cell_type": "code",
   "execution_count": null,
   "metadata": {},
   "outputs": [
    {
     "ename": "Error",
     "evalue": "Session cannot generate requests",
     "output_type": "error",
     "traceback": [
      "Error: Session cannot generate requests",
      "at S.executeCodeCell (/home/lucas-mateo/.vscode/extensions/ms-toolsai.jupyter-2021.10.1101450599/out/client/extension.js:66:301742)",
      "at S.execute (/home/lucas-mateo/.vscode/extensions/ms-toolsai.jupyter-2021.10.1101450599/out/client/extension.js:66:300732)",
      "at S.start (/home/lucas-mateo/.vscode/extensions/ms-toolsai.jupyter-2021.10.1101450599/out/client/extension.js:66:296408)",
      "at processTicksAndRejections (internal/process/task_queues.js:93:5)",
      "at async t.CellExecutionQueue.executeQueuedCells (/home/lucas-mateo/.vscode/extensions/ms-toolsai.jupyter-2021.10.1101450599/out/client/extension.js:66:312326)",
      "at async t.CellExecutionQueue.start (/home/lucas-mateo/.vscode/extensions/ms-toolsai.jupyter-2021.10.1101450599/out/client/extension.js:66:311862)"
     ]
    }
   ],
   "source": [
    "# building INSERT query\n",
    "insert_query = \"INSERT INTO sf_fires (\"\n",
    "for col in columns:\n",
    "    insert_query += f\"{col}, \"\n",
    "insert_query = f\"{insert_query[:-2]}) VALUES \"\n",
    "\n",
    "for item in data_short:\n",
    "    insert_query_values = [ item[k] if k in item.keys() and k != \"point\" else None for k in columns ]\n",
    "    insert_query_values.append(str(item[\"point\"][\"coordinates\"]))\n",
    "    insert_query += str(tuple(insert_query_values)) + \", \""
   ]
  },
  {
   "cell_type": "code",
   "execution_count": null,
   "metadata": {},
   "outputs": [
    {
     "data": {
      "text/plain": [
       "\" Hunters Point', None, '[-122.372228, 37.728104]')\""
      ]
     },
     "execution_count": 75,
     "metadata": {},
     "output_type": "execute_result"
    }
   ],
   "source": [
    "insert_query = insert_query[:-2]\n",
    "insert_query[-50:]"
   ]
  }
 ],
 "metadata": {
  "interpreter": {
   "hash": "916dbcbb3f70747c44a77c7bcd40155683ae19c65e1c03b4aa3499c5328201f1"
  },
  "kernelspec": {
   "display_name": "Python 3.8.10 64-bit",
   "name": "python3"
  },
  "language_info": {
   "codemirror_mode": {
    "name": "ipython",
    "version": 3
   },
   "file_extension": ".py",
   "mimetype": "text/x-python",
   "name": "python",
   "nbconvert_exporter": "python",
   "pygments_lexer": "ipython3",
   "version": "3.8.10"
  },
  "orig_nbformat": 4
 },
 "nbformat": 4,
 "nbformat_minor": 2
}
