{
 "cells": [
  {
   "cell_type": "code",
   "execution_count": 1,
   "metadata": {},
   "outputs": [],
   "source": [
    "import mysql.connector"
   ]
  },
  {
   "cell_type": "code",
   "execution_count": 2,
   "metadata": {},
   "outputs": [],
   "source": [
    "# CONFIG_USER = \"admin\"\n",
    "# CONFIG_PASSWORD = \"adminadmin\"\n",
    "# CONFIG_HOST = \"sf-fires-1.cmbkjcuzgzbs.us-east-2.rds.amazonaws.com\"\n",
    "\n",
    "CONFIG_USER = \"root\"\n",
    "CONFIG_PASSWORD = \"AlieN3242DucE-\"\n",
    "CONFIG_HOST = \"localhost\"\n",
    "\n",
    "conn = mysql.connector.connect(\n",
    "    user=CONFIG_USER, \n",
    "    password=CONFIG_PASSWORD,\n",
    "    host=CONFIG_HOST,\n",
    "    buffered=True\n",
    ")\n",
    "\n",
    "cursor = conn.cursor()"
   ]
  },
  {
   "cell_type": "code",
   "execution_count": 3,
   "metadata": {},
   "outputs": [],
   "source": [
    "DB_NAME = 'sf_fires_testing'"
   ]
  },
  {
   "cell_type": "code",
   "execution_count": 4,
   "metadata": {},
   "outputs": [
    {
     "name": "stdout",
     "output_type": "stream",
     "text": [
      "Using sf_fires_testing\n"
     ]
    }
   ],
   "source": [
    "def create_database(cursor):\n",
    "    try:\n",
    "        statement = f\"CREATE DATABASE {DB_NAME} DEFAULT CHARACTER SET 'utf8'\"\n",
    "        cursor.execute(statement)\n",
    "    except mysql.connector.Error as err:\n",
    "        print(f\"Failed creating database: {err}\")\n",
    "\n",
    "try:\n",
    "    cursor.execute(f\"USE {DB_NAME}\")\n",
    "    print(f\"Using {DB_NAME}\")\n",
    "except mysql.connector.Error as err:\n",
    "    print(f\"Database {DB_NAME} does not exist\")\n",
    "    if err.errno == mysql.connector.errorcode.ER_BAD_DB_ERROR:\n",
    "        create_database(cursor)\n",
    "        print(f\"Database {DB_NAME} created successfully.\")\n",
    "        conn.database = DB_NAME\n",
    "    else:\n",
    "        print(err)"
   ]
  },
  {
   "cell_type": "code",
   "execution_count": 5,
   "metadata": {},
   "outputs": [
    {
     "name": "stdout",
     "output_type": "stream",
     "text": [
      "information_schema\n",
      "mysql\n",
      "performance_schema\n",
      "sf_fires_testing\n",
      "sys\n"
     ]
    }
   ],
   "source": [
    "query = \"show databases\"\n",
    "cursor.execute(query)\n",
    "for db in cursor:\n",
    "     print(db[0])"
   ]
  },
  {
   "cell_type": "markdown",
   "metadata": {},
   "source": [
    "### Create Table"
   ]
  },
  {
   "cell_type": "code",
   "execution_count": 6,
   "metadata": {},
   "outputs": [],
   "source": [
    "import json"
   ]
  },
  {
   "cell_type": "code",
   "execution_count": 14,
   "metadata": {},
   "outputs": [],
   "source": [
    "import pickle\n",
    "\n",
    "# with open('col_data_types.pickle', 'rb') as handle:\n",
    "#     columns = pickle.load(handle)\n",
    "\n",
    "with open('rs_data_types.pickle', 'rb') as handle:\n",
    "    columns = pickle.load(handle)"
   ]
  },
  {
   "cell_type": "code",
   "execution_count": 15,
   "metadata": {},
   "outputs": [
    {
     "name": "stdout",
     "output_type": "stream",
     "text": [
      "65\n"
     ]
    }
   ],
   "source": [
    "print(len(columns.keys()))"
   ]
  },
  {
   "cell_type": "code",
   "execution_count": 16,
   "metadata": {},
   "outputs": [
    {
     "name": "stdout",
     "output_type": "stream",
     "text": [
      "incident_number INTEGER\n",
      "exposure_number SMALLINT\n",
      "suppression_units SMALLINT\n",
      "suppression_personnel SMALLINT\n",
      "ems_units SMALLINT\n",
      "ems_personnel SMALLINT\n",
      "other_units SMALLINT\n"
     ]
    }
   ],
   "source": [
    "for i, (k, v) in enumerate(columns.items()):\n",
    "    print(k, v)\n",
    "    if i > 5: break"
   ]
  },
  {
   "cell_type": "code",
   "execution_count": 22,
   "metadata": {},
   "outputs": [],
   "source": [
    "# RDS MySQL\n",
    "# create_str = \"CREATE TABLE IF NOT EXISTS sf_fires (\"\n",
    "# for k, v in columns.items():\n",
    "#     create_str += f\"`{k.lower()}` {v},\"\n",
    "# create_str += \"PRIMARY KEY (id)) ENGINE=InnoDB\"\n",
    "\n",
    "# \n",
    "create_str = \"CREATE TABLE IF NOT EXISTS sf_fires (\"\n",
    "for k, v in columns.items():\n",
    "    create_str += f\"{k.lower()} {v},\"\n",
    "create_str = create_str[:-1] + \")\""
   ]
  },
  {
   "cell_type": "code",
   "execution_count": 23,
   "metadata": {},
   "outputs": [
    {
     "data": {
      "text/plain": [
       "'CREATE TABLE IF NOT EXISTS sf_fires (incident_number INTEGER,exposure_number SMALLINT,suppression_units SMALLINT,suppression_personnel SMALLINT,ems_units SMALLINT,ems_personnel SMALLINT,other_units SMALLINT,other_personnel SMALLINT,estimated_property_loss DECIMAL(7,2),estimated_contents_loss DECIMAL(7,2),fire_fatalities SMALLINT,fire_injuries SMALLINT,civilian_fatalities SMALLINT,civilian_injuries SMALLINT,number_of_alarms SMALLINT,floor_of_fire_origin DECIMAL(7,2),number_of_floors_with_minimum_damage DECIMAL(7,2),number_of_floors_with_significant_damage DECIMAL(7,2),number_of_floors_with_heavy_damage DECIMAL(7,2),number_of_floors_with_extreme_damage DECIMAL(7,2),number_of_sprinkler_heads_operating DECIMAL(7,2),incident_date TIMESTAMP,alarm_dttm TIMESTAMP,arrival_dttm TIMESTAMP,latitude DECIMAL(13,10),longitude DECIMAL(13,10),id VARCHAR,address VARCHAR,call_number VARCHAR,close_dttm VARCHAR,city VARCHAR,zipcode VARCHAR,battalion VARCHAR,station_area VARCHAR,box VARCHAR,first_unit_on_scene VARCHAR,primary_situation VARCHAR,mutual_aid VARCHAR,action_taken_primary VARCHAR,action_taken_secondary VARCHAR,action_taken_other VARCHAR,detector_alerted_occupants VARCHAR,property_use VARCHAR,area_of_fire_origin VARCHAR,ignition_cause VARCHAR,ignition_factor_primary VARCHAR,ignition_factor_secondary VARCHAR,heat_source VARCHAR,item_first_ignited VARCHAR,human_factors_associated_with_ignition VARCHAR,structure_type VARCHAR,structure_status VARCHAR,fire_spread VARCHAR,no_flame_spead VARCHAR,detectors_present VARCHAR,detector_type VARCHAR,detector_operation VARCHAR,detector_effectiveness VARCHAR,detector_failure_reason VARCHAR,automatic_extinguishing_system_present VARCHAR,automatic_extinguishing_sytem_type VARCHAR,automatic_extinguishing_sytem_perfomance VARCHAR,automatic_extinguishing_sytem_failure_reason VARCHAR,supervisor_district VARCHAR,neighborhood_district VARCHAR)'"
      ]
     },
     "execution_count": 23,
     "metadata": {},
     "output_type": "execute_result"
    }
   ],
   "source": [
    "create_str"
   ]
  },
  {
   "cell_type": "code",
   "execution_count": 32,
   "metadata": {},
   "outputs": [],
   "source": [
    "drop_table_query = f\"DROP TABLE IF EXISTS `sf_fires`\"\n",
    "cursor.execute(drop_table_query)"
   ]
  },
  {
   "cell_type": "code",
   "execution_count": 33,
   "metadata": {},
   "outputs": [
    {
     "name": "stdout",
     "output_type": "stream",
     "text": [
      "table created\n"
     ]
    }
   ],
   "source": [
    "try:\n",
    "    cursor.execute(create_str)\n",
    "    print(\"table created\")\n",
    "except mysql.connector.Error as err:\n",
    "    if err.errno == errorcode.ER_TABLE_EXISTS_ERROR:\n",
    "        print(\"This table already exists\")\n",
    "    else:\n",
    "        print(err.msg)"
   ]
  },
  {
   "cell_type": "code",
   "execution_count": 34,
   "metadata": {},
   "outputs": [
    {
     "name": "stdout",
     "output_type": "stream",
     "text": [
      "('def', 'mysql', 'columns_priv', 'BASE TABLE', 'InnoDB', 10, 'Dynamic', 0, 0, 16384, 0, 0, 4194304, None, datetime.datetime(2021, 11, 27, 16, 29, 25), None, None, 'utf8_bin', None, 'row_format=DYNAMIC stats_persistent=0', 'Column privileges')\n"
     ]
    }
   ],
   "source": [
    "select_query = \"SELECT * FROM information_schema.tables\"\n",
    "cursor.execute(select_query)\n",
    "tables = cursor.fetchall()\n",
    "print(tables[0])"
   ]
  },
  {
   "cell_type": "markdown",
   "metadata": {},
   "source": [
    "### Populate Table"
   ]
  },
  {
   "cell_type": "code",
   "execution_count": 16,
   "metadata": {},
   "outputs": [],
   "source": [
    "import json"
   ]
  },
  {
   "cell_type": "code",
   "execution_count": 17,
   "metadata": {},
   "outputs": [],
   "source": [
    "with open('Exploration/data.json') as json_file:\n",
    "    data = json.load(json_file)"
   ]
  },
  {
   "cell_type": "code",
   "execution_count": 18,
   "metadata": {},
   "outputs": [],
   "source": [
    "data_short = data[:10000]"
   ]
  },
  {
   "cell_type": "code",
   "execution_count": 19,
   "metadata": {},
   "outputs": [
    {
     "data": {
      "text/plain": [
       "'INSERT INTO sf_fires (incident_number, exposure_number, suppression_units, suppression_personnel, ems_units, ems_personnel, other_units, other_personnel, estimated_property_loss, estimated_contents_loss, fire_fatalities, fire_injuries, civilian_fatalities, civilian_injuries, number_of_alarms, floor_of_fire_origin, number_of_floors_with_minimum_damage, number_of_floors_with_significant_damage, number_of_floors_with_heavy_damage, number_of_floors_with_extreme_damage, number_of_sprinkler_heads_operating, incident_date, alarm_dttm, arrival_dttm, id, address, call_number, close_dttm, city, zipcode, battalion, station_area, box, first_unit_on_scene, primary_situation, mutual_aid, action_taken_primary, action_taken_secondary, action_taken_other, detector_alerted_occupants, property_use, area_of_fire_origin, ignition_cause, ignition_factor_primary, ignition_factor_secondary, heat_source, item_first_ignited, human_factors_associated_with_ignition, structure_type, structure_status, fire_spread, no_flame_spead, detectors_present, detector_type, detector_operation, detector_effectiveness, detector_failure_reason, automatic_extinguishing_system_present, automatic_extinguishing_sytem_type, automatic_extinguishing_sytem_perfomance, automatic_extinguishing_sytem_failure_reason, supervisor_district, neighborhood_district, point) VALUES (%(incident_number)s, %(exposure_number)s, %(suppression_units)s, %(suppression_personnel)s, %(ems_units)s, %(ems_personnel)s, %(other_units)s, %(other_personnel)s, %(estimated_property_loss)s, %(estimated_contents_loss)s, %(fire_fatalities)s, %(fire_injuries)s, %(civilian_fatalities)s, %(civilian_injuries)s, %(number_of_alarms)s, %(floor_of_fire_origin)s, %(number_of_floors_with_minimum_damage)s, %(number_of_floors_with_significant_damage)s, %(number_of_floors_with_heavy_damage)s, %(number_of_floors_with_extreme_damage)s, %(number_of_sprinkler_heads_operating)s, %(incident_date)s, %(alarm_dttm)s, %(arrival_dttm)s, %(id)s, %(address)s, %(call_number)s, %(close_dttm)s, %(city)s, %(zipcode)s, %(battalion)s, %(station_area)s, %(box)s, %(first_unit_on_scene)s, %(primary_situation)s, %(mutual_aid)s, %(action_taken_primary)s, %(action_taken_secondary)s, %(action_taken_other)s, %(detector_alerted_occupants)s, %(property_use)s, %(area_of_fire_origin)s, %(ignition_cause)s, %(ignition_factor_primary)s, %(ignition_factor_secondary)s, %(heat_source)s, %(item_first_ignited)s, %(human_factors_associated_with_ignition)s, %(structure_type)s, %(structure_status)s, %(fire_spread)s, %(no_flame_spead)s, %(detectors_present)s, %(detector_type)s, %(detector_operation)s, %(detector_effectiveness)s, %(detector_failure_reason)s, %(automatic_extinguishing_system_present)s, %(automatic_extinguishing_sytem_type)s, %(automatic_extinguishing_sytem_perfomance)s, %(automatic_extinguishing_sytem_failure_reason)s, %(supervisor_district)s, %(neighborhood_district)s, %(point)s)'"
      ]
     },
     "execution_count": 19,
     "metadata": {},
     "output_type": "execute_result"
    }
   ],
   "source": [
    "# building INSERT query\n",
    "# insert_query = \"INSERT INTO sf_fires (\"\n",
    "# for col in columns:\n",
    "#     insert_query += f\"{col}, \"\n",
    "# insert_query = f\"{insert_query[:-2]}) \"\n",
    "\n",
    "# row = \"(\" + (\"%s, \" * len(columns))[:-2] + \"), \"\n",
    "# values_query = \"VALUES \" + (row * len(data_short))[:-2]\n",
    "# insert_query = insert_query + values_query\n",
    "# insert_query[:1500]\n",
    "\n",
    "# building INSERT query\n",
    "insert_query = \"INSERT INTO sf_fires (\"\n",
    "for col in columns:\n",
    "    insert_query += f\"{col}, \"\n",
    "insert_query = f\"{insert_query[:-2]}) VALUES (\"\n",
    "\n",
    "for col in columns:\n",
    "    insert_query += f\"%({col})s, \"\n",
    "insert_query = f\"{insert_query[:-2]})\"\n",
    "insert_query"
   ]
  },
  {
   "cell_type": "code",
   "execution_count": 20,
   "metadata": {},
   "outputs": [
    {
     "data": {
      "text/plain": [
       "[-122.41837339, 37.74208979]"
      ]
     },
     "execution_count": 20,
     "metadata": {},
     "output_type": "execute_result"
    }
   ],
   "source": [
    "data_short[0][\"point\"][\"coordinates\"]"
   ]
  },
  {
   "cell_type": "code",
   "execution_count": 21,
   "metadata": {},
   "outputs": [],
   "source": [
    "for item in data_short:\n",
    "    insert_query_values = { k:(item[k] if k in item.keys() else None) for k in columns }\n",
    "    point = item.get(\"point\")\n",
    "    if point:\n",
    "        coords = point.get(\"coordinates\")\n",
    "        insert_query_values[\"point\"] = str(coords)\n",
    "    else:\n",
    "        insert_query_values[\"point\"] = None\n",
    "    cursor.execute(insert_query, insert_query_values)\n",
    "\n",
    "conn.commit()"
   ]
  }
 ],
 "metadata": {
  "interpreter": {
   "hash": "916dbcbb3f70747c44a77c7bcd40155683ae19c65e1c03b4aa3499c5328201f1"
  },
  "kernelspec": {
   "display_name": "Python 3.8.10 64-bit",
   "name": "python3"
  },
  "language_info": {
   "codemirror_mode": {
    "name": "ipython",
    "version": 3
   },
   "file_extension": ".py",
   "mimetype": "text/x-python",
   "name": "python",
   "nbconvert_exporter": "python",
   "pygments_lexer": "ipython3",
   "version": "3.8.10"
  },
  "orig_nbformat": 4
 },
 "nbformat": 4,
 "nbformat_minor": 2
}
