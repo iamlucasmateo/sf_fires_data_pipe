{
 "cells": [
  {
   "cell_type": "code",
   "execution_count": 1,
   "metadata": {},
   "outputs": [],
   "source": [
    "import mysql.connector\n",
    "from mysql.connector import errorcode"
   ]
  },
  {
   "cell_type": "code",
   "execution_count": 2,
   "metadata": {},
   "outputs": [],
   "source": [
    "CONFIG_USER = \"admin\"\n",
    "CONFIG_PASSWORD = \"adminadmin\"\n",
    "CONFIG_HOST = \"sf-fires-1.cmbkjcuzgzbs.us-east-2.rds.amazonaws.com\"\n",
    "\n",
    "conn = mysql.connector.connect(\n",
    "    user=CONFIG_USER, \n",
    "    password=CONFIG_PASSWORD,\n",
    "    host=CONFIG_HOST,\n",
    "    buffered=True\n",
    ")\n",
    "\n",
    "cursor = conn.cursor()"
   ]
  },
  {
   "cell_type": "code",
   "execution_count": 3,
   "metadata": {},
   "outputs": [],
   "source": [
    "DB_NAME = 'sf_fires_testing'\n",
    "cursor.execute(f\"USE {DB_NAME}\")"
   ]
  },
  {
   "cell_type": "markdown",
   "metadata": {},
   "source": [
    "## Create Table"
   ]
  },
  {
   "cell_type": "markdown",
   "metadata": {},
   "source": [
    "### Setup"
   ]
  },
  {
   "cell_type": "code",
   "execution_count": 4,
   "metadata": {},
   "outputs": [],
   "source": [
    "import json"
   ]
  },
  {
   "cell_type": "code",
   "execution_count": 5,
   "metadata": {},
   "outputs": [],
   "source": [
    "import pickle\n",
    "\n",
    "with open('col_data_types.pickle', 'rb') as handle:\n",
    "    columns = pickle.load(handle)"
   ]
  },
  {
   "cell_type": "code",
   "execution_count": 6,
   "metadata": {},
   "outputs": [],
   "source": [
    "def get_create_str():\n",
    "    create_str = \"CREATE TABLE IF NOT EXISTS sf_fires (\"\n",
    "    for k, v in columns.items():\n",
    "        create_str += f\"`{k.lower()}` {v},\"\n",
    "    create_str += \"PRIMARY KEY (id)) ENGINE=InnoDB\"\n",
    "    return create_str"
   ]
  },
  {
   "cell_type": "code",
   "execution_count": 7,
   "metadata": {},
   "outputs": [
    {
     "name": "stdout",
     "output_type": "stream",
     "text": [
      "CREATE TABLE IF NOT EXISTS sf_fires (`incident_number` INT,`exposure_number` SMALLINT,`suppression_units` SMALLINT,`suppression_personnel` SMALLINT,`ems_units` SMALLINT,`ems_personnel` SMALLINT,`other_units` SMALLINT,`other_personnel` SMALLINT,`estimated_property_loss` FLOAT,`estimated_contents_loss` FLOAT,`fire_fatalities` SMALLINT,`fire_injuries` SMALLINT,`civilian_fatalities` SMALLINT,`civilian_injuries` SMALLINT,`number_of_alarms` SMALLINT,`floor_of_fire_origin` FLOAT,`number_of_floors_with_\n",
      "\n",
      "t` VARCHAR(255),`detector_type` VARCHAR(255),`detector_operation` VARCHAR(255),`detector_effectiveness` VARCHAR(255),`detector_failure_reason` VARCHAR(255),`automatic_extinguishing_system_present` VARCHAR(255),`automatic_extinguishing_sytem_type` VARCHAR(255),`automatic_extinguishing_sytem_perfomance` VARCHAR(255),`automatic_extinguishing_sytem_failure_reason` VARCHAR(255),`supervisor_district` VARCHAR(255),`neighborhood_district` VARCHAR(255),`point` VARCHAR(255),PRIMARY KEY (id)) ENGINE=InnoDB\n"
     ]
    }
   ],
   "source": [
    "print(get_create_str()[:500])\n",
    "print()\n",
    "print(get_create_str()[-500:])"
   ]
  },
  {
   "cell_type": "markdown",
   "metadata": {},
   "source": [
    "### Table Creation"
   ]
  },
  {
   "cell_type": "code",
   "execution_count": 8,
   "metadata": {},
   "outputs": [],
   "source": [
    "def drop_table(cursor):\n",
    "    drop_table_query = f\"DROP TABLE IF EXISTS `sf_fires`\"\n",
    "    cursor.execute(drop_table_query)\n",
    "    print(\"Table dropped\")\n",
    "\n",
    "def create_table(cursor):\n",
    "    create_str = \"CREATE TABLE IF NOT EXISTS sf_fires (\"\n",
    "    for k, v in columns.items():\n",
    "        create_str += f\"`{k.lower()}` {v},\"\n",
    "    create_str += \"PRIMARY KEY (id)) ENGINE=InnoDB\"\n",
    "\n",
    "    try:\n",
    "        cursor.execute(create_str)\n",
    "        print(\"table created\")\n",
    "    except mysql.connector.Error as err:\n",
    "        if err.errno == errorcode.ER_TABLE_EXISTS_ERROR:\n",
    "            print(\"This table already exists\")\n",
    "        else:\n",
    "            print(err.msg)\n",
    "\n",
    "def reinit_table(cursor):\n",
    "    drop_table(cursor)\n",
    "    create_table(cursor)"
   ]
  },
  {
   "cell_type": "code",
   "execution_count": 9,
   "metadata": {},
   "outputs": [
    {
     "name": "stdout",
     "output_type": "stream",
     "text": [
      "Table dropped\n",
      "table created\n"
     ]
    }
   ],
   "source": [
    "reinit_table(cursor)\n",
    "conn.commit()"
   ]
  },
  {
   "cell_type": "markdown",
   "metadata": {},
   "source": [
    "## Populate Table"
   ]
  },
  {
   "cell_type": "markdown",
   "metadata": {},
   "source": [
    "### Data"
   ]
  },
  {
   "cell_type": "code",
   "execution_count": 10,
   "metadata": {},
   "outputs": [],
   "source": [
    "import json"
   ]
  },
  {
   "cell_type": "code",
   "execution_count": 11,
   "metadata": {},
   "outputs": [],
   "source": [
    "with open('data.json') as json_file:\n",
    "    data = json.load(json_file)"
   ]
  },
  {
   "cell_type": "code",
   "execution_count": 12,
   "metadata": {},
   "outputs": [],
   "source": [
    "def get_cell_value(item, col):\n",
    "    if col not in item.keys():\n",
    "        return None\n",
    "    if col == \"point\":\n",
    "        coords = item[\"point\"].get(\"coordinates\")\n",
    "        if coords:\n",
    "            return str(coords)\n",
    "        else:\n",
    "            return None\n",
    "    if \"INT\" in columns[col]:\n",
    "        return int(item[col])\n",
    "    if \"FLOAT\" in columns[col]:\n",
    "        return float(item[col])\n",
    "    return item[col]"
   ]
  },
  {
   "cell_type": "code",
   "execution_count": 13,
   "metadata": {},
   "outputs": [
    {
     "name": "stdout",
     "output_type": "stream",
     "text": [
      "INSERT INTO sf_fires (incident_number, exposure_number, suppression_units, suppression_personnel, ems_units, ems_personnel, other_units, other_personnel, estimated_property_loss, estimated_contents_loss, fire_fatalities, fire_injuries, civilian_fatalities, civilian_injuries, number_of_alarms, floor_of_fire_origin, number_of_floors_with_minimum_damage, number_of_floors_with_significant_damage, number_of_floors_with_heavy_damage, number_of_floors_with_extreme_damage, number_of_sprinkler_heads_oper\n",
      "\n",
      "ector_failure_reason, automatic_extinguishing_system_present, automatic_extinguishing_sytem_type, automatic_extinguishing_sytem_perfomance, automatic_extinguishing_sytem_failure_reason, supervisor_district, neighborhood_district, point) VALUES (%s, %s, %s, %s, %s, %s, %s, %s, %s, %s, %s, %s, %s, %s, %s, %s, %s, %s, %s, %s, %s, %s, %s, %s, %s, %s, %s, %s, %s, %s, %s, %s, %s, %s, %s, %s, %s, %s, %s, %s, %s, %s, %s, %s, %s, %s, %s, %s, %s, %s, %s, %s, %s, %s, %s, %s, %s, %s, %s, %s, %s, %s, %s, %s)\n"
     ]
    }
   ],
   "source": [
    "# building INSERT query\n",
    "def get_query_for():\n",
    "    insert_query = \"INSERT INTO sf_fires (\"\n",
    "    for col in columns:\n",
    "        insert_query += f\"{col}, \"\n",
    "\n",
    "    insert_query = f\"{insert_query[:-2]}) VALUES (\"\n",
    "    insert_query += \"%s, \" * len(columns)\n",
    "    insert_query = insert_query[:-2] + \")\"\n",
    "\n",
    "    return insert_query\n",
    "\n",
    "print(get_query_for()[:500])\n",
    "print()\n",
    "print(get_query_for()[-500:])"
   ]
  },
  {
   "cell_type": "code",
   "execution_count": 14,
   "metadata": {},
   "outputs": [],
   "source": [
    "def update_table_many(data):\n",
    "    insert_query = get_query_for()\n",
    "    values = []\n",
    "    for item in data:\n",
    "        row = [ get_cell_value(item, col) for col in columns ]\n",
    "        values.append(tuple(row))\n",
    "    cursor.executemany(insert_query, values)\n",
    "    conn.commit()"
   ]
  },
  {
   "cell_type": "code",
   "execution_count": 15,
   "metadata": {},
   "outputs": [],
   "source": [
    "def update_table_inner_batch(data, batches):\n",
    "    batch_size = int(len(data) / batches) + 1\n",
    "    first, last = 0, batch_size\n",
    "    for i in range(batches):\n",
    "        print(first, \" - \", last)\n",
    "        data_batch = data[first:last]\n",
    "        update_table_many(data_batch)\n",
    "        first = last\n",
    "        last_new = last + batch_size\n",
    "        last = last_new if last_new < len(data) else len(data)"
   ]
  },
  {
   "cell_type": "code",
   "execution_count": null,
   "metadata": {},
   "outputs": [],
   "source": [
    "def update_table_outer_batch(data, batches):\n",
    "    batch_size = int(len(data) / batches) + 1\n",
    "    first, last = 0, batch_size\n",
    "    for i in range(batches):\n",
    "        print(first, \" - \", last)\n",
    "        data_batch = data[first:last]\n",
    "        update_table_many(data_batch)\n",
    "        first = last\n",
    "        last_new = last + batch_size\n",
    "        last = last_new if last_new < len(data) else len(data)"
   ]
  },
  {
   "cell_type": "code",
   "execution_count": 16,
   "metadata": {},
   "outputs": [],
   "source": [
    "# reinit_table(cursor)\n",
    "# update_table_many_batch(data[:10000], 4)"
   ]
  },
  {
   "cell_type": "code",
   "execution_count": 17,
   "metadata": {},
   "outputs": [],
   "source": [
    "# reinit_table(cursor)\n",
    "# update_table_many_batch(data[:100000], 4)"
   ]
  },
  {
   "cell_type": "code",
   "execution_count": 28,
   "metadata": {},
   "outputs": [
    {
     "name": "stdout",
     "output_type": "stream",
     "text": [
      "Table dropped\n",
      "table created\n",
      "0  -  28689\n",
      "28689  -  57378\n",
      "57378  -  86067\n",
      "86067  -  114756\n",
      "114756  -  143445\n",
      "143445  -  172134\n",
      "172134  -  200823\n",
      "200823  -  229512\n",
      "229512  -  258201\n",
      "258201  -  286890\n",
      "286890  -  315579\n",
      "315579  -  344268\n",
      "344268  -  372957\n",
      "372957  -  401646\n",
      "401646  -  430335\n",
      "430335  -  459024\n",
      "459024  -  487713\n",
      "487713  -  516402\n",
      "516402  -  545091\n",
      "545091  -  573769\n"
     ]
    }
   ],
   "source": [
    "reinit_table(cursor)\n",
    "update_table_many_batch(data, 20)"
   ]
  },
  {
   "cell_type": "code",
   "execution_count": 29,
   "metadata": {},
   "outputs": [
    {
     "name": "stdout",
     "output_type": "stream",
     "text": [
      "Table dropped\n",
      "table created\n",
      "0  -  14345\n",
      "14345  -  28690\n",
      "28690  -  43035\n",
      "43035  -  57380\n",
      "57380  -  71725\n",
      "71725  -  86070\n",
      "86070  -  100415\n",
      "100415  -  114760\n",
      "114760  -  129105\n",
      "129105  -  143450\n",
      "143450  -  157795\n",
      "157795  -  172140\n",
      "172140  -  186485\n",
      "186485  -  200830\n",
      "200830  -  215175\n",
      "215175  -  229520\n",
      "229520  -  243865\n",
      "243865  -  258210\n",
      "258210  -  272555\n",
      "272555  -  286900\n",
      "286900  -  301245\n",
      "301245  -  315590\n",
      "315590  -  329935\n",
      "329935  -  344280\n",
      "344280  -  358625\n",
      "358625  -  372970\n",
      "372970  -  387315\n",
      "387315  -  401660\n",
      "401660  -  416005\n",
      "416005  -  430350\n",
      "430350  -  444695\n",
      "444695  -  459040\n",
      "459040  -  473385\n",
      "473385  -  487730\n",
      "487730  -  502075\n",
      "502075  -  516420\n",
      "516420  -  530765\n",
      "530765  -  545110\n",
      "545110  -  559455\n",
      "559455  -  573769\n"
     ]
    }
   ],
   "source": [
    "reinit_table(cursor)\n",
    "update_table_many_batch(data, 40)"
   ]
  },
  {
   "cell_type": "code",
   "execution_count": 30,
   "metadata": {},
   "outputs": [
    {
     "name": "stdout",
     "output_type": "stream",
     "text": [
      "Table dropped\n",
      "table created\n",
      "0  -  5738\n",
      "5738  -  11476\n",
      "11476  -  17214\n",
      "17214  -  22952\n",
      "22952  -  28690\n",
      "28690  -  34428\n",
      "34428  -  40166\n",
      "40166  -  45904\n",
      "45904  -  51642\n",
      "51642  -  57380\n",
      "57380  -  63118\n",
      "63118  -  68856\n",
      "68856  -  74594\n",
      "74594  -  80332\n",
      "80332  -  86070\n",
      "86070  -  91808\n",
      "91808  -  97546\n",
      "97546  -  103284\n",
      "103284  -  109022\n",
      "109022  -  114760\n",
      "114760  -  120498\n",
      "120498  -  126236\n",
      "126236  -  131974\n",
      "131974  -  137712\n",
      "137712  -  143450\n",
      "143450  -  149188\n",
      "149188  -  154926\n",
      "154926  -  160664\n",
      "160664  -  166402\n",
      "166402  -  172140\n",
      "172140  -  177878\n",
      "177878  -  183616\n",
      "183616  -  189354\n",
      "189354  -  195092\n",
      "195092  -  200830\n",
      "200830  -  206568\n",
      "206568  -  212306\n",
      "212306  -  218044\n",
      "218044  -  223782\n",
      "223782  -  229520\n",
      "229520  -  235258\n",
      "235258  -  240996\n",
      "240996  -  246734\n",
      "246734  -  252472\n",
      "252472  -  258210\n",
      "258210  -  263948\n",
      "263948  -  269686\n",
      "269686  -  275424\n",
      "275424  -  281162\n",
      "281162  -  286900\n",
      "286900  -  292638\n",
      "292638  -  298376\n",
      "298376  -  304114\n",
      "304114  -  309852\n",
      "309852  -  315590\n",
      "315590  -  321328\n",
      "321328  -  327066\n",
      "327066  -  332804\n",
      "332804  -  338542\n",
      "338542  -  344280\n",
      "344280  -  350018\n",
      "350018  -  355756\n",
      "355756  -  361494\n",
      "361494  -  367232\n",
      "367232  -  372970\n",
      "372970  -  378708\n",
      "378708  -  384446\n",
      "384446  -  390184\n",
      "390184  -  395922\n",
      "395922  -  401660\n",
      "401660  -  407398\n",
      "407398  -  413136\n",
      "413136  -  418874\n",
      "418874  -  424612\n",
      "424612  -  430350\n",
      "430350  -  436088\n",
      "436088  -  441826\n",
      "441826  -  447564\n",
      "447564  -  453302\n",
      "453302  -  459040\n",
      "459040  -  464778\n",
      "464778  -  470516\n",
      "470516  -  476254\n",
      "476254  -  481992\n",
      "481992  -  487730\n",
      "487730  -  493468\n",
      "493468  -  499206\n",
      "499206  -  504944\n",
      "504944  -  510682\n",
      "510682  -  516420\n",
      "516420  -  522158\n",
      "522158  -  527896\n",
      "527896  -  533634\n",
      "533634  -  539372\n",
      "539372  -  545110\n",
      "545110  -  550848\n",
      "550848  -  556586\n",
      "556586  -  562324\n",
      "562324  -  568062\n",
      "568062  -  573769\n"
     ]
    }
   ],
   "source": [
    "reinit_table(cursor)\n",
    "update_table_many_batch(data, 100)"
   ]
  },
  {
   "cell_type": "code",
   "execution_count": 32,
   "metadata": {},
   "outputs": [
    {
     "name": "stdout",
     "output_type": "stream",
     "text": [
      "Table dropped\n",
      "table created\n",
      "0  -  8197\n",
      "8197  -  16394\n",
      "16394  -  24591\n",
      "24591  -  32788\n",
      "32788  -  40985\n",
      "40985  -  49182\n",
      "49182  -  57379\n",
      "57379  -  65576\n",
      "65576  -  73773\n",
      "73773  -  81970\n",
      "81970  -  90167\n",
      "90167  -  98364\n",
      "98364  -  106561\n",
      "106561  -  114758\n",
      "114758  -  122955\n",
      "122955  -  131152\n",
      "131152  -  139349\n",
      "139349  -  147546\n",
      "147546  -  155743\n",
      "155743  -  163940\n",
      "163940  -  172137\n",
      "172137  -  180334\n",
      "180334  -  188531\n",
      "188531  -  196728\n",
      "196728  -  204925\n",
      "204925  -  213122\n",
      "213122  -  221319\n",
      "221319  -  229516\n",
      "229516  -  237713\n",
      "237713  -  245910\n",
      "245910  -  254107\n",
      "254107  -  262304\n",
      "262304  -  270501\n",
      "270501  -  278698\n",
      "278698  -  286895\n",
      "286895  -  295092\n",
      "295092  -  303289\n",
      "303289  -  311486\n",
      "311486  -  319683\n",
      "319683  -  327880\n",
      "327880  -  336077\n",
      "336077  -  344274\n",
      "344274  -  352471\n",
      "352471  -  360668\n",
      "360668  -  368865\n",
      "368865  -  377062\n",
      "377062  -  385259\n",
      "385259  -  393456\n",
      "393456  -  401653\n",
      "401653  -  409850\n",
      "409850  -  418047\n",
      "418047  -  426244\n",
      "426244  -  434441\n",
      "434441  -  442638\n",
      "442638  -  450835\n",
      "450835  -  459032\n",
      "459032  -  467229\n",
      "467229  -  475426\n",
      "475426  -  483623\n",
      "483623  -  491820\n",
      "491820  -  500017\n",
      "500017  -  508214\n",
      "508214  -  516411\n",
      "516411  -  524608\n",
      "524608  -  532805\n",
      "532805  -  541002\n",
      "541002  -  549199\n",
      "549199  -  557396\n",
      "557396  -  565593\n",
      "565593  -  573769\n"
     ]
    }
   ],
   "source": [
    "reinit_table(cursor)\n",
    "update_table_many_batch(data, 70)"
   ]
  },
  {
   "cell_type": "code",
   "execution_count": 22,
   "metadata": {},
   "outputs": [
    {
     "name": "stdout",
     "output_type": "stream",
     "text": [
      "0  -  25001\n",
      "25001  -  50002\n",
      "50002  -  75003\n",
      "75003  -  100000\n"
     ]
    }
   ],
   "source": [
    "update_table_many_batch(data[400000:500000], 4)"
   ]
  },
  {
   "cell_type": "code",
   "execution_count": 23,
   "metadata": {},
   "outputs": [
    {
     "name": "stdout",
     "output_type": "stream",
     "text": [
      "0  -  18443\n",
      "18443  -  36886\n",
      "36886  -  55329\n",
      "55329  -  73769\n"
     ]
    }
   ],
   "source": [
    "update_table_many_batch(data[500000:], 4)"
   ]
  },
  {
   "cell_type": "code",
   "execution_count": 24,
   "metadata": {},
   "outputs": [],
   "source": [
    "# reinit_table(cursor)\n",
    "# update_table_many_batch(data[:200000], 4)"
   ]
  },
  {
   "cell_type": "code",
   "execution_count": 25,
   "metadata": {},
   "outputs": [],
   "source": [
    "# reinit_table(cursor)\n",
    "# update_table_many_batch(data[:350000], 4)"
   ]
  },
  {
   "cell_type": "code",
   "execution_count": 26,
   "metadata": {},
   "outputs": [],
   "source": [
    "# reinit_table(cursor)\n",
    "# update_table_many_batch(data[:500000], 4)"
   ]
  },
  {
   "cell_type": "code",
   "execution_count": 27,
   "metadata": {},
   "outputs": [],
   "source": [
    "# reinit_table(cursor)\n",
    "# update_table_many_batch(data, 4)"
   ]
  }
 ],
 "metadata": {
  "interpreter": {
   "hash": "916dbcbb3f70747c44a77c7bcd40155683ae19c65e1c03b4aa3499c5328201f1"
  },
  "kernelspec": {
   "display_name": "Python 3.8.10 64-bit",
   "name": "python3"
  },
  "language_info": {
   "codemirror_mode": {
    "name": "ipython",
    "version": 3
   },
   "file_extension": ".py",
   "mimetype": "text/x-python",
   "name": "python",
   "nbconvert_exporter": "python",
   "pygments_lexer": "ipython3",
   "version": "3.8.10"
  },
  "orig_nbformat": 4
 },
 "nbformat": 4,
 "nbformat_minor": 2
}
