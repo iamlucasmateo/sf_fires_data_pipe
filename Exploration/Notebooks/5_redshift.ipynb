{
 "cells": [
  {
   "cell_type": "code",
   "execution_count": 1,
   "metadata": {},
   "outputs": [],
   "source": [
    "import redshift_connector\n",
    "from config import redshift_config"
   ]
  },
  {
   "cell_type": "code",
   "execution_count": 51,
   "metadata": {},
   "outputs": [],
   "source": [
    "RS_HOST = redshift_config[\"host\"]\n",
    "RS_DB = redshift_config[\"dev\"]\n",
    "RS_USER = redshift_config[\"user\"]\n",
    "RS_PASS = redshift_config[\"password\"]\n",
    "RS_PORT = redshift_config[\"port\"]\n",
    "\n",
    "conn = redshift_connector.connect(\n",
    "     host=RS_HOST,\n",
    "     database=RS_DB,\n",
    "     user=RS_USER,\n",
    "     password=RS_PASS,\n",
    "  )"
   ]
  },
  {
   "cell_type": "code",
   "execution_count": 7,
   "metadata": {},
   "outputs": [],
   "source": [
    "cursor = conn.cursor()"
   ]
  },
  {
   "cell_type": "code",
   "execution_count": 38,
   "metadata": {},
   "outputs": [],
   "source": [
    "create_str = \"CREATE TABLE IF NOT EXISTS sf_fires (incident_number INTEGER,exposure_number SMALLINT,suppression_units SMALLINT,suppression_personnel SMALLINT,ems_units SMALLINT,ems_personnel SMALLINT,other_units SMALLINT,other_personnel SMALLINT,estimated_property_loss DECIMAL(7,2),estimated_contents_loss DECIMAL(7,2),fire_fatalities SMALLINT,fire_injuries SMALLINT,civilian_fatalities SMALLINT,civilian_injuries SMALLINT,number_of_alarms SMALLINT,floor_of_fire_origin DECIMAL(7,2),number_of_floors_with_minimum_damage DECIMAL(7,2),number_of_floors_with_significant_damage DECIMAL(7,2),number_of_floors_with_heavy_damage DECIMAL(7,2),number_of_floors_with_extreme_damage DECIMAL(7,2),number_of_sprinkler_heads_operating DECIMAL(7,2),incident_date TIMESTAMP,alarm_dttm TIMESTAMP,arrival_dttm TIMESTAMP,latitude DECIMAL(13,10),longitude DECIMAL(13,10),id VARCHAR,address VARCHAR,call_number VARCHAR,close_dttm VARCHAR,city VARCHAR,zipcode VARCHAR,battalion VARCHAR,station_area VARCHAR,box VARCHAR,first_unit_on_scene VARCHAR,primary_situation VARCHAR,mutual_aid VARCHAR,action_taken_primary VARCHAR,action_taken_secondary VARCHAR,action_taken_other VARCHAR,detector_alerted_occupants VARCHAR,property_use VARCHAR,area_of_fire_origin VARCHAR,ignition_cause VARCHAR,ignition_factor_primary VARCHAR,ignition_factor_secondary VARCHAR,heat_source VARCHAR,item_first_ignited VARCHAR,human_factors_associated_with_ignition VARCHAR,structure_type VARCHAR,structure_status VARCHAR,fire_spread VARCHAR,no_flame_spead VARCHAR,detectors_present VARCHAR,detector_type VARCHAR,detector_operation VARCHAR,detector_effectiveness VARCHAR,detector_failure_reason VARCHAR,automatic_extinguishing_system_present VARCHAR,automatic_extinguishing_sytem_type VARCHAR,automatic_extinguishing_sytem_perfomance VARCHAR,automatic_extinguishing_sytem_failure_reason VARCHAR,supervisor_district VARCHAR,neighborhood_district VARCHAR)\""
   ]
  },
  {
   "cell_type": "code",
   "execution_count": 52,
   "metadata": {},
   "outputs": [
    {
     "data": {
      "text/plain": [
       "<redshift_connector.core.Connection at 0x7fe135d2d610>"
      ]
     },
     "execution_count": 52,
     "metadata": {},
     "output_type": "execute_result"
    }
   ],
   "source": [
    "conn"
   ]
  },
  {
   "cell_type": "code",
   "execution_count": 39,
   "metadata": {},
   "outputs": [
    {
     "data": {
      "text/plain": [
       "<redshift_connector.cursor.Cursor at 0x7fe14c0fc220>"
      ]
     },
     "execution_count": 39,
     "metadata": {},
     "output_type": "execute_result"
    }
   ],
   "source": [
    "cursor.execute(create_str)"
   ]
  },
  {
   "cell_type": "code",
   "execution_count": 40,
   "metadata": {},
   "outputs": [],
   "source": [
    "conn.commit()"
   ]
  },
  {
   "cell_type": "code",
   "execution_count": 41,
   "metadata": {},
   "outputs": [],
   "source": [
    "conn.rollback()"
   ]
  },
  {
   "cell_type": "code",
   "execution_count": 29,
   "metadata": {},
   "outputs": [],
   "source": [
    "cursor.execute(\"DROP TABLE sf_fires\")\n",
    "conn.commit()"
   ]
  },
  {
   "cell_type": "code",
   "execution_count": 42,
   "metadata": {},
   "outputs": [],
   "source": [
    "import json"
   ]
  },
  {
   "cell_type": "code",
   "execution_count": 43,
   "metadata": {},
   "outputs": [],
   "source": [
    "with open('data.json') as json_file:\n",
    "    data = json.load(json_file)"
   ]
  },
  {
   "cell_type": "code",
   "execution_count": 44,
   "metadata": {},
   "outputs": [],
   "source": [
    "import pickle\n",
    "\n",
    "with open('rs_data_types.pickle', 'rb') as handle:\n",
    "    columns = pickle.load(handle)"
   ]
  },
  {
   "cell_type": "code",
   "execution_count": 45,
   "metadata": {},
   "outputs": [],
   "source": [
    "def get_query_for():\n",
    "    insert_query = \"INSERT INTO sf_fires (\"\n",
    "    for col in columns:\n",
    "        insert_query += f\"{col}, \"\n",
    "\n",
    "    insert_query = f\"{insert_query[:-2]}) VALUES (\"\n",
    "    insert_query += \"%s, \" * len(columns)\n",
    "    insert_query = insert_query[:-2] + \")\"\n",
    "\n",
    "    return insert_query"
   ]
  },
  {
   "cell_type": "code",
   "execution_count": 49,
   "metadata": {},
   "outputs": [
    {
     "data": {
      "text/plain": [
       "{'incident_number': 'INTEGER',\n",
       " 'exposure_number': 'SMALLINT',\n",
       " 'suppression_units': 'SMALLINT',\n",
       " 'suppression_personnel': 'SMALLINT',\n",
       " 'ems_units': 'SMALLINT',\n",
       " 'ems_personnel': 'SMALLINT',\n",
       " 'other_units': 'SMALLINT',\n",
       " 'other_personnel': 'SMALLINT',\n",
       " 'estimated_property_loss': 'DECIMAL(7,2)',\n",
       " 'estimated_contents_loss': 'DECIMAL(7,2)',\n",
       " 'fire_fatalities': 'SMALLINT',\n",
       " 'fire_injuries': 'SMALLINT',\n",
       " 'civilian_fatalities': 'SMALLINT',\n",
       " 'civilian_injuries': 'SMALLINT',\n",
       " 'number_of_alarms': 'SMALLINT',\n",
       " 'floor_of_fire_origin': 'DECIMAL(7,2)',\n",
       " 'number_of_floors_with_minimum_damage': 'DECIMAL(7,2)',\n",
       " 'number_of_floors_with_significant_damage': 'DECIMAL(7,2)',\n",
       " 'number_of_floors_with_heavy_damage': 'DECIMAL(7,2)',\n",
       " 'number_of_floors_with_extreme_damage': 'DECIMAL(7,2)',\n",
       " 'number_of_sprinkler_heads_operating': 'DECIMAL(7,2)',\n",
       " 'incident_date': 'TIMESTAMP',\n",
       " 'alarm_dttm': 'TIMESTAMP',\n",
       " 'arrival_dttm': 'TIMESTAMP',\n",
       " 'latitude': 'DECIMAL(13,10)',\n",
       " 'longitude': 'DECIMAL(13,10)',\n",
       " 'id': 'VARCHAR',\n",
       " 'address': 'VARCHAR',\n",
       " 'call_number': 'VARCHAR',\n",
       " 'close_dttm': 'VARCHAR',\n",
       " 'city': 'VARCHAR',\n",
       " 'zipcode': 'VARCHAR',\n",
       " 'battalion': 'VARCHAR',\n",
       " 'station_area': 'VARCHAR',\n",
       " 'box': 'VARCHAR',\n",
       " 'first_unit_on_scene': 'VARCHAR',\n",
       " 'primary_situation': 'VARCHAR',\n",
       " 'mutual_aid': 'VARCHAR',\n",
       " 'action_taken_primary': 'VARCHAR',\n",
       " 'action_taken_secondary': 'VARCHAR',\n",
       " 'action_taken_other': 'VARCHAR',\n",
       " 'detector_alerted_occupants': 'VARCHAR',\n",
       " 'property_use': 'VARCHAR',\n",
       " 'area_of_fire_origin': 'VARCHAR',\n",
       " 'ignition_cause': 'VARCHAR',\n",
       " 'ignition_factor_primary': 'VARCHAR',\n",
       " 'ignition_factor_secondary': 'VARCHAR',\n",
       " 'heat_source': 'VARCHAR',\n",
       " 'item_first_ignited': 'VARCHAR',\n",
       " 'human_factors_associated_with_ignition': 'VARCHAR',\n",
       " 'structure_type': 'VARCHAR',\n",
       " 'structure_status': 'VARCHAR',\n",
       " 'fire_spread': 'VARCHAR',\n",
       " 'no_flame_spead': 'VARCHAR',\n",
       " 'detectors_present': 'VARCHAR',\n",
       " 'detector_type': 'VARCHAR',\n",
       " 'detector_operation': 'VARCHAR',\n",
       " 'detector_effectiveness': 'VARCHAR',\n",
       " 'detector_failure_reason': 'VARCHAR',\n",
       " 'automatic_extinguishing_system_present': 'VARCHAR',\n",
       " 'automatic_extinguishing_sytem_type': 'VARCHAR',\n",
       " 'automatic_extinguishing_sytem_perfomance': 'VARCHAR',\n",
       " 'automatic_extinguishing_sytem_failure_reason': 'VARCHAR',\n",
       " 'supervisor_district': 'VARCHAR',\n",
       " 'neighborhood_district': 'VARCHAR'}"
      ]
     },
     "execution_count": 49,
     "metadata": {},
     "output_type": "execute_result"
    }
   ],
   "source": [
    "columns"
   ]
  },
  {
   "cell_type": "code",
   "execution_count": 47,
   "metadata": {},
   "outputs": [
    {
     "data": {
      "text/plain": [
       "'INSERT INTO sf_fires (incident_number, exposure_number, suppression_units, suppression_personnel, ems_units, ems_personnel, other_units, other_personnel, estimated_property_loss, estimated_contents_loss, fire_fatalities, fire_injuries, civilian_fatalities, civilian_injuries, number_of_alarms, floor_of_fire_origin, number_of_floors_with_minimum_damage, number_of_floors_with_significant_damage, number_of_floors_with_heavy_damage, number_of_floors_with_extreme_damage, number_of_sprinkler_heads_operating, incident_date, alarm_dttm, arrival_dttm, latitude, longitude, id, address, call_number, close_dttm, city, zipcode, battalion, station_area, box, first_unit_on_scene, primary_situation, mutual_aid, action_taken_primary, action_taken_secondary, action_taken_other, detector_alerted_occupants, property_use, area_of_fire_origin, ignition_cause, ignition_factor_primary, ignition_factor_secondary, heat_source, item_first_ignited, human_factors_associated_with_ignition, structure_type, structure_status, fire_spread, no_flame_spead, detectors_present, detector_type, detector_operation, detector_effectiveness, detector_failure_reason, automatic_extinguishing_system_present, automatic_extinguishing_sytem_type, automatic_extinguishing_sytem_perfomance, automatic_extinguishing_sytem_failure_reason, supervisor_district, neighborhood_district) VALUES (%s, %s, %s, %s, %s, %s, %s, %s, %s, %s, %s, %s, %s, %s, %s, %s, %s, %s, %s, %s, %s, %s, %s, %s, %s, %s, %s, %s, %s, %s, %s, %s, %s, %s, %s, %s, %s, %s, %s, %s, %s, %s, %s, %s, %s, %s, %s, %s, %s, %s, %s, %s, %s, %s, %s, %s, %s, %s, %s, %s, %s, %s, %s, %s, %s)'"
      ]
     },
     "execution_count": 47,
     "metadata": {},
     "output_type": "execute_result"
    }
   ],
   "source": [
    "get_query_for()"
   ]
  }
 ],
 "metadata": {
  "interpreter": {
   "hash": "1dc686f85a5ad0dc8f88371196f6d9bcbc99c5f892c56f26f15e8b0211144e5e"
  },
  "kernelspec": {
   "display_name": "Python 3.8.10 64-bit ('venv': venv)",
   "language": "python",
   "name": "python3"
  },
  "language_info": {
   "codemirror_mode": {
    "name": "ipython",
    "version": 3
   },
   "file_extension": ".py",
   "mimetype": "text/x-python",
   "name": "python",
   "nbconvert_exporter": "python",
   "pygments_lexer": "ipython3",
   "version": "3.8.10"
  },
  "orig_nbformat": 4
 },
 "nbformat": 4,
 "nbformat_minor": 2
}
