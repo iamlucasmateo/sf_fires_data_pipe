{
 "cells": [
  {
   "cell_type": "code",
   "execution_count": 1,
   "metadata": {},
   "outputs": [],
   "source": [
    "import mysql.connector\n",
    "from mysql.connector import errorcode"
   ]
  },
  {
   "cell_type": "code",
   "execution_count": 2,
   "metadata": {},
   "outputs": [],
   "source": [
    "CONFIG_USER = \"admin\"\n",
    "CONFIG_PASSWORD = \"adminadmin\"\n",
    "CONFIG_HOST = \"sf-fires-1.cmbkjcuzgzbs.us-east-2.rds.amazonaws.com\"\n",
    "\n",
    "conn = mysql.connector.connect(\n",
    "    user=CONFIG_USER, \n",
    "    password=CONFIG_PASSWORD,\n",
    "    host=CONFIG_HOST,\n",
    "    buffered=True\n",
    ")\n",
    "\n",
    "cursor = conn.cursor()"
   ]
  },
  {
   "cell_type": "code",
   "execution_count": 3,
   "metadata": {},
   "outputs": [],
   "source": [
    "DB_NAME = 'sf_fires_testing'\n",
    "cursor.execute(f\"USE {DB_NAME}\")"
   ]
  },
  {
   "cell_type": "markdown",
   "metadata": {},
   "source": [
    "## Create Table"
   ]
  },
  {
   "cell_type": "markdown",
   "metadata": {},
   "source": [
    "### Setup"
   ]
  },
  {
   "cell_type": "code",
   "execution_count": 4,
   "metadata": {},
   "outputs": [],
   "source": [
    "import json"
   ]
  },
  {
   "cell_type": "code",
   "execution_count": 5,
   "metadata": {},
   "outputs": [],
   "source": [
    "import pickle\n",
    "\n",
    "with open('col_data_types.pickle', 'rb') as handle:\n",
    "    columns = pickle.load(handle)"
   ]
  },
  {
   "cell_type": "code",
   "execution_count": 6,
   "metadata": {},
   "outputs": [],
   "source": [
    "def get_create_str():\n",
    "    create_str = \"CREATE TABLE IF NOT EXISTS sf_fires (\"\n",
    "    for k, v in columns.items():\n",
    "        create_str += f\"`{k.lower()}` {v},\"\n",
    "    create_str += \"PRIMARY KEY (id)) ENGINE=InnoDB\"\n",
    "    return create_str"
   ]
  },
  {
   "cell_type": "code",
   "execution_count": 7,
   "metadata": {},
   "outputs": [
    {
     "name": "stdout",
     "output_type": "stream",
     "text": [
      "CREATE TABLE IF NOT EXISTS sf_fires (`incident_number` INT,`exposure_number` SMALLINT,`suppression_units` SMALLINT,`suppression_personnel` SMALLINT,`ems_units` SMALLINT,`ems_personnel` SMALLINT,`other_units` SMALLINT,`other_personnel` SMALLINT,`estimated_property_loss` FLOAT,`estimated_contents_loss` FLOAT,`fire_fatalities` SMALLINT,`fire_injuries` SMALLINT,`civilian_fatalities` SMALLINT,`civilian_injuries` SMALLINT,`number_of_alarms` SMALLINT,`floor_of_fire_origin` FLOAT,`number_of_floors_with_\n",
      "\n",
      "t` VARCHAR(255),`detector_type` VARCHAR(255),`detector_operation` VARCHAR(255),`detector_effectiveness` VARCHAR(255),`detector_failure_reason` VARCHAR(255),`automatic_extinguishing_system_present` VARCHAR(255),`automatic_extinguishing_sytem_type` VARCHAR(255),`automatic_extinguishing_sytem_perfomance` VARCHAR(255),`automatic_extinguishing_sytem_failure_reason` VARCHAR(255),`supervisor_district` VARCHAR(255),`neighborhood_district` VARCHAR(255),`point` VARCHAR(255),PRIMARY KEY (id)) ENGINE=InnoDB\n"
     ]
    }
   ],
   "source": [
    "print(get_create_str()[:500])\n",
    "print()\n",
    "print(get_create_str()[-500:])"
   ]
  },
  {
   "cell_type": "markdown",
   "metadata": {},
   "source": [
    "### Table Creation"
   ]
  },
  {
   "cell_type": "code",
   "execution_count": 8,
   "metadata": {},
   "outputs": [],
   "source": [
    "def drop_table(cursor):\n",
    "    drop_table_query = f\"DROP TABLE IF EXISTS `sf_fires`\"\n",
    "    cursor.execute(drop_table_query)\n",
    "    print(\"Table dropped\")\n",
    "\n",
    "def create_table(cursor):\n",
    "    create_str = \"CREATE TABLE IF NOT EXISTS sf_fires (\"\n",
    "    for k, v in columns.items():\n",
    "        create_str += f\"`{k.lower()}` {v},\"\n",
    "    create_str += \"PRIMARY KEY (id)) ENGINE=InnoDB\"\n",
    "\n",
    "    try:\n",
    "        cursor.execute(create_str)\n",
    "        print(\"table created\")\n",
    "    except mysql.connector.Error as err:\n",
    "        if err.errno == errorcode.ER_TABLE_EXISTS_ERROR:\n",
    "            print(\"This table already exists\")\n",
    "        else:\n",
    "            print(err.msg)\n",
    "\n",
    "def reinit_table(cursor):\n",
    "    drop_table(cursor)\n",
    "    create_table(cursor)"
   ]
  },
  {
   "cell_type": "code",
   "execution_count": 9,
   "metadata": {},
   "outputs": [
    {
     "name": "stdout",
     "output_type": "stream",
     "text": [
      "Table dropped\n",
      "table created\n"
     ]
    }
   ],
   "source": [
    "reinit_table(cursor)\n",
    "conn.commit()"
   ]
  },
  {
   "cell_type": "markdown",
   "metadata": {},
   "source": [
    "## Populate Table"
   ]
  },
  {
   "cell_type": "markdown",
   "metadata": {},
   "source": [
    "### Data"
   ]
  },
  {
   "cell_type": "code",
   "execution_count": 10,
   "metadata": {},
   "outputs": [],
   "source": [
    "import json"
   ]
  },
  {
   "cell_type": "code",
   "execution_count": 11,
   "metadata": {},
   "outputs": [],
   "source": [
    "with open('data.json') as json_file:\n",
    "    data = json.load(json_file)"
   ]
  },
  {
   "cell_type": "code",
   "execution_count": 12,
   "metadata": {},
   "outputs": [],
   "source": [
    "def get_cell_value(item, col):\n",
    "    if col not in item.keys():\n",
    "        return None\n",
    "    if col == \"point\":\n",
    "        coords = item[\"point\"].get(\"coordinates\")\n",
    "        if coords:\n",
    "            return str(coords)\n",
    "        else:\n",
    "            return None\n",
    "    if \"INT\" in columns[col]:\n",
    "        return int(item[col])\n",
    "    if \"FLOAT\" in columns[col]:\n",
    "        return float(item[col])\n",
    "    return item[col]"
   ]
  },
  {
   "cell_type": "code",
   "execution_count": 14,
   "metadata": {},
   "outputs": [],
   "source": [
    "from datetime import datetime"
   ]
  },
  {
   "cell_type": "code",
   "execution_count": 15,
   "metadata": {},
   "outputs": [],
   "source": [
    "import pandas as pd"
   ]
  },
  {
   "cell_type": "code",
   "execution_count": 21,
   "metadata": {},
   "outputs": [
    {
     "data": {
      "text/html": [
       "<div>\n",
       "<style scoped>\n",
       "    .dataframe tbody tr th:only-of-type {\n",
       "        vertical-align: middle;\n",
       "    }\n",
       "\n",
       "    .dataframe tbody tr th {\n",
       "        vertical-align: top;\n",
       "    }\n",
       "\n",
       "    .dataframe thead th {\n",
       "        text-align: right;\n",
       "    }\n",
       "</style>\n",
       "<table border=\"1\" class=\"dataframe\">\n",
       "  <thead>\n",
       "    <tr style=\"text-align: right;\">\n",
       "      <th></th>\n",
       "      <th>date</th>\n",
       "      <th>strategy</th>\n",
       "      <th>rows</th>\n",
       "      <th>elapsed</th>\n",
       "    </tr>\n",
       "  </thead>\n",
       "  <tbody>\n",
       "  </tbody>\n",
       "</table>\n",
       "</div>"
      ],
      "text/plain": [
       "Empty DataFrame\n",
       "Columns: [date, strategy, rows, elapsed]\n",
       "Index: []"
      ]
     },
     "execution_count": 21,
     "metadata": {},
     "output_type": "execute_result"
    }
   ],
   "source": [
    "results = pd.read_csv(\"comparison_results.csv\")\n",
    "results.head(3)"
   ]
  },
  {
   "cell_type": "code",
   "execution_count": 105,
   "metadata": {},
   "outputs": [],
   "source": [
    "def monitor_strategy(function, data, results, reinit=True):\n",
    "    init_time = datetime.now()\n",
    "    if reinit:\n",
    "        reinit_table(cursor)\n",
    "    function(data)\n",
    "    time_now = datetime.now()\n",
    "    time_diff = time_now - init_time\n",
    "    row = (init_time, str(function), len(data), time_diff)\n",
    "    results.loc[len(results)] = row\n",
    "    results.to_csv(\"comparison_results.csv\")\n"
   ]
  },
  {
   "cell_type": "markdown",
   "metadata": {},
   "source": [
    "### Method 1: for loop"
   ]
  },
  {
   "cell_type": "code",
   "execution_count": 19,
   "metadata": {},
   "outputs": [
    {
     "name": "stdout",
     "output_type": "stream",
     "text": [
      "INSERT INTO sf_fires (incident_number, exposure_number, suppression_units, suppression_personnel, ems_units, ems_personnel, other_units, other_personnel, estimated_property_loss, estimated_contents_loss, fire_fatalities, fire_injuries, civilian_fatalities, civilian_injuries, number_of_alarms, floor_of_fire_origin, number_of_floors_with_minimum_damage, number_of_floors_with_significant_damage, number_of_floors_with_heavy_damage, number_of_floors_with_extreme_damage, number_of_sprinkler_heads_oper\n",
      "\n",
      "ector_failure_reason, automatic_extinguishing_system_present, automatic_extinguishing_sytem_type, automatic_extinguishing_sytem_perfomance, automatic_extinguishing_sytem_failure_reason, supervisor_district, neighborhood_district, point) VALUES (%s, %s, %s, %s, %s, %s, %s, %s, %s, %s, %s, %s, %s, %s, %s, %s, %s, %s, %s, %s, %s, %s, %s, %s, %s, %s, %s, %s, %s, %s, %s, %s, %s, %s, %s, %s, %s, %s, %s, %s, %s, %s, %s, %s, %s, %s, %s, %s, %s, %s, %s, %s, %s, %s, %s, %s, %s, %s, %s, %s, %s, %s, %s, %s)\n"
     ]
    }
   ],
   "source": [
    "# building INSERT query\n",
    "def get_query_for():\n",
    "    insert_query = \"INSERT INTO sf_fires (\"\n",
    "    for col in columns:\n",
    "        insert_query += f\"{col}, \"\n",
    "\n",
    "    insert_query = f\"{insert_query[:-2]}) VALUES (\"\n",
    "    insert_query += \"%s, \" * len(columns)\n",
    "    insert_query = insert_query[:-2] + \")\"\n",
    "\n",
    "    return insert_query\n",
    "\n",
    "print(get_query_for()[:500])\n",
    "print()\n",
    "print(get_query_for()[-500:])"
   ]
  },
  {
   "cell_type": "code",
   "execution_count": 42,
   "metadata": {},
   "outputs": [],
   "source": [
    "def update_table_for(data):\n",
    "    insert_query = get_query_for()\n",
    "    for i, item in enumerate(data):\n",
    "        insert_query_values = tuple([ get_cell_value(item, col) for col in columns ])\n",
    "        cursor.execute(insert_query, insert_query_values)\n",
    "    conn.commit()"
   ]
  },
  {
   "cell_type": "code",
   "execution_count": 39,
   "metadata": {},
   "outputs": [
    {
     "name": "stdout",
     "output_type": "stream",
     "text": [
      "Table dropped\n",
      "table created\n"
     ]
    }
   ],
   "source": [
    "monitor_strategy(update_table_for, data[:5])"
   ]
  },
  {
   "cell_type": "code",
   "execution_count": 40,
   "metadata": {},
   "outputs": [
    {
     "data": {
      "text/html": [
       "<div>\n",
       "<style scoped>\n",
       "    .dataframe tbody tr th:only-of-type {\n",
       "        vertical-align: middle;\n",
       "    }\n",
       "\n",
       "    .dataframe tbody tr th {\n",
       "        vertical-align: top;\n",
       "    }\n",
       "\n",
       "    .dataframe thead th {\n",
       "        text-align: right;\n",
       "    }\n",
       "</style>\n",
       "<table border=\"1\" class=\"dataframe\">\n",
       "  <thead>\n",
       "    <tr style=\"text-align: right;\">\n",
       "      <th></th>\n",
       "      <th>date</th>\n",
       "      <th>strategy</th>\n",
       "      <th>rows</th>\n",
       "      <th>elapsed</th>\n",
       "    </tr>\n",
       "  </thead>\n",
       "  <tbody>\n",
       "    <tr>\n",
       "      <th>0</th>\n",
       "      <td>2021-12-01 00:30:30.956731</td>\n",
       "      <td>&lt;function update_table_for at 0x7f36a2ba71f0&gt;</td>\n",
       "      <td>5</td>\n",
       "      <td>0 days 00:00:02.072320</td>\n",
       "    </tr>\n",
       "  </tbody>\n",
       "</table>\n",
       "</div>"
      ],
      "text/plain": [
       "                        date                                       strategy  \\\n",
       "0 2021-12-01 00:30:30.956731  <function update_table_for at 0x7f36a2ba71f0>   \n",
       "\n",
       "  rows                elapsed  \n",
       "0    5 0 days 00:00:02.072320  "
      ]
     },
     "execution_count": 40,
     "metadata": {},
     "output_type": "execute_result"
    }
   ],
   "source": [
    "results"
   ]
  },
  {
   "cell_type": "markdown",
   "metadata": {},
   "source": [
    "### Method 2: execute many"
   ]
  },
  {
   "cell_type": "code",
   "execution_count": 13,
   "metadata": {},
   "outputs": [],
   "source": [
    "def update_table_many(data):\n",
    "    insert_query = get_query_for()\n",
    "    values = []\n",
    "    for item in data:\n",
    "        row = [ get_cell_value(item, col) for col in columns ]\n",
    "        values.append(tuple(row))\n",
    "    cursor.executemany(insert_query, values)\n",
    "    conn.commit()"
   ]
  },
  {
   "cell_type": "code",
   "execution_count": 16,
   "metadata": {},
   "outputs": [],
   "source": [
    "def update_table_many_batch(data, batches):\n",
    "    batch_size = int(len(data) / batches) + 1\n",
    "    first, last = 0, batch_size\n",
    "    for i in range(batches):\n",
    "        data_batch = data[first:last]\n",
    "        update_table_many(data_batch)\n",
    "        first = last\n",
    "        last_new = last + batch_size\n",
    "        last = last_new if last_new < len(data) else len(data)"
   ]
  },
  {
   "cell_type": "code",
   "execution_count": 26,
   "metadata": {},
   "outputs": [
    {
     "name": "stdout",
     "output_type": "stream",
     "text": [
      "Table dropped\n",
      "table created\n"
     ]
    }
   ],
   "source": [
    "reinit_table(cursor)\n",
    "update_table_many_batch(data, 4)"
   ]
  },
  {
   "cell_type": "code",
   "execution_count": 24,
   "metadata": {},
   "outputs": [
    {
     "data": {
      "text/plain": [
       "800000"
      ]
     },
     "execution_count": 24,
     "metadata": {},
     "output_type": "execute_result"
    }
   ],
   "source": [
    "4000*200"
   ]
  },
  {
   "cell_type": "code",
   "execution_count": 9,
   "metadata": {},
   "outputs": [
    {
     "name": "stdout",
     "output_type": "stream",
     "text": [
      "32\n",
      "0\n"
     ]
    }
   ],
   "source": [
    "print(max_aux)\n",
    "print(index)"
   ]
  },
  {
   "cell_type": "code",
   "execution_count": 53,
   "metadata": {},
   "outputs": [],
   "source": [
    "update_table_many(data[7:10])"
   ]
  },
  {
   "cell_type": "code",
   "execution_count": 54,
   "metadata": {},
   "outputs": [
    {
     "name": "stdout",
     "output_type": "stream",
     "text": [
      "Table dropped\n",
      "table created\n"
     ]
    }
   ],
   "source": [
    "monitor_strategy(update_table_many, data[10:100])"
   ]
  },
  {
   "cell_type": "code",
   "execution_count": 58,
   "metadata": {},
   "outputs": [
    {
     "name": "stdout",
     "output_type": "stream",
     "text": [
      "Table dropped\n",
      "table created\n"
     ]
    }
   ],
   "source": [
    "monitor_strategy(update_table_many, data[:100000])"
   ]
  },
  {
   "cell_type": "code",
   "execution_count": 59,
   "metadata": {},
   "outputs": [
    {
     "data": {
      "text/html": [
       "<div>\n",
       "<style scoped>\n",
       "    .dataframe tbody tr th:only-of-type {\n",
       "        vertical-align: middle;\n",
       "    }\n",
       "\n",
       "    .dataframe tbody tr th {\n",
       "        vertical-align: top;\n",
       "    }\n",
       "\n",
       "    .dataframe thead th {\n",
       "        text-align: right;\n",
       "    }\n",
       "</style>\n",
       "<table border=\"1\" class=\"dataframe\">\n",
       "  <thead>\n",
       "    <tr style=\"text-align: right;\">\n",
       "      <th></th>\n",
       "      <th>date</th>\n",
       "      <th>strategy</th>\n",
       "      <th>rows</th>\n",
       "      <th>elapsed</th>\n",
       "    </tr>\n",
       "  </thead>\n",
       "  <tbody>\n",
       "    <tr>\n",
       "      <th>0</th>\n",
       "      <td>2021-12-01 00:30:30.956731</td>\n",
       "      <td>&lt;function update_table_for at 0x7f36a2ba71f0&gt;</td>\n",
       "      <td>5</td>\n",
       "      <td>0 days 00:00:02.072320</td>\n",
       "    </tr>\n",
       "    <tr>\n",
       "      <th>1</th>\n",
       "      <td>2021-12-01 00:35:56.507644</td>\n",
       "      <td>&lt;function update_table_many at 0x7f36a2ba7d30&gt;</td>\n",
       "      <td>90</td>\n",
       "      <td>0 days 00:00:01.452725</td>\n",
       "    </tr>\n",
       "    <tr>\n",
       "      <th>2</th>\n",
       "      <td>2021-12-01 00:36:32.500884</td>\n",
       "      <td>&lt;function update_table_many at 0x7f36a2ba7d30&gt;</td>\n",
       "      <td>10000</td>\n",
       "      <td>0 days 00:00:13.283197</td>\n",
       "    </tr>\n",
       "    <tr>\n",
       "      <th>3</th>\n",
       "      <td>2021-12-01 00:37:08.909547</td>\n",
       "      <td>&lt;function update_table_many at 0x7f36a2ba7d30&gt;</td>\n",
       "      <td>100000</td>\n",
       "      <td>0 days 00:04:54.775291</td>\n",
       "    </tr>\n",
       "  </tbody>\n",
       "</table>\n",
       "</div>"
      ],
      "text/plain": [
       "                        date                                        strategy  \\\n",
       "0 2021-12-01 00:30:30.956731   <function update_table_for at 0x7f36a2ba71f0>   \n",
       "1 2021-12-01 00:35:56.507644  <function update_table_many at 0x7f36a2ba7d30>   \n",
       "2 2021-12-01 00:36:32.500884  <function update_table_many at 0x7f36a2ba7d30>   \n",
       "3 2021-12-01 00:37:08.909547  <function update_table_many at 0x7f36a2ba7d30>   \n",
       "\n",
       "     rows                elapsed  \n",
       "0       5 0 days 00:00:02.072320  \n",
       "1      90 0 days 00:00:01.452725  \n",
       "2   10000 0 days 00:00:13.283197  \n",
       "3  100000 0 days 00:04:54.775291  "
      ]
     },
     "execution_count": 59,
     "metadata": {},
     "output_type": "execute_result"
    }
   ],
   "source": [
    "results"
   ]
  },
  {
   "cell_type": "markdown",
   "metadata": {},
   "source": [
    "### Method 3: long execute command"
   ]
  },
  {
   "cell_type": "code",
   "execution_count": 132,
   "metadata": {},
   "outputs": [],
   "source": [
    "def get_cell_value_str(item, col):\n",
    "    if col not in item.keys():\n",
    "        return \"\\'None\\'\"\n",
    "    if col == \"point\":\n",
    "        coords = item[\"point\"].get(\"coordinates\")\n",
    "        if coords:\n",
    "            return f\"\\'{str(coords)}\\'\"\n",
    "        else:\n",
    "            return \"\\'None\\'\"\n",
    "    \n",
    "    data_type = columns[col]\n",
    "    value = item[col]\n",
    "    if \"INT\" in data_type:\n",
    "        return str(int(value))\n",
    "    if \"TIMESTAMP\" in data_type:\n",
    "        return f\"\\'{value.replace('T', ' ')}\\'\"\n",
    "    \n",
    "    result = value\n",
    "    result = result.replace(\",\", \"\\,\")\n",
    "    result = result.replace(\"'\", \"\\'\")\n",
    "    return f\"\\'{result}\\'\""
   ]
  },
  {
   "cell_type": "code",
   "execution_count": 133,
   "metadata": {},
   "outputs": [],
   "source": [
    "# building INSERT query\n",
    "def get_query_long():\n",
    "    insert_query = \"INSERT INTO sf_fires (\"\n",
    "    for col in columns:\n",
    "        insert_query += f\"{col}, \"\n",
    "    insert_query = f\"{insert_query[:-2]}) VALUES \"\n",
    "    return insert_query\n",
    "\n",
    "# VALUES for insert query\n",
    "def update_table_long(data):\n",
    "    insert_query = get_query_long()\n",
    "    for i, item in enumerate(data):\n",
    "        values = \"(\"\n",
    "        for j, col in enumerate(columns):\n",
    "            ending = \"), \" if j == len(columns) - 1 else \", \"\n",
    "            values += get_cell_value_str(item, col) + ending\n",
    "        insert_query += values\n",
    "    insert_query = insert_query[:-2] \n",
    "    print(insert_query)\n",
    "    cursor.execute(insert_query)\n",
    "    conn.commit()"
   ]
  },
  {
   "cell_type": "markdown",
   "metadata": {},
   "source": [
    "### Method 4: using pandas"
   ]
  },
  {
   "cell_type": "code",
   "execution_count": 112,
   "metadata": {},
   "outputs": [],
   "source": [
    "conn.close()"
   ]
  },
  {
   "cell_type": "code",
   "execution_count": 87,
   "metadata": {},
   "outputs": [],
   "source": [
    "import pandas as pd\n",
    "from sqlalchemy import create_engine"
   ]
  },
  {
   "cell_type": "code",
   "execution_count": 108,
   "metadata": {},
   "outputs": [],
   "source": [
    "SQL_USER = \"admin\"\n",
    "SQL_PASSWORD = \"adminadmin\"\n",
    "HOST = \"sf-fires-1.cmbkjcuzgzbs.us-east-2.rds.amazonaws.com\"\n",
    "DB_NAME = \"sf_fires_testing\"\n",
    "MYSQL_CONN = \"mysqlconnector\"\n",
    "sql_config = f\"mysql+{MYSQL_CONN}://{SQL_USER}:{SQL_PASSWORD}@{HOST}/{DB_NAME}\"\n",
    "sql_engine = create_engine(sql_config)\n",
    "conn = sql_engine.connect()"
   ]
  },
  {
   "cell_type": "code",
   "execution_count": 92,
   "metadata": {},
   "outputs": [],
   "source": [
    "import numpy as np"
   ]
  },
  {
   "cell_type": "code",
   "execution_count": 101,
   "metadata": {},
   "outputs": [],
   "source": [
    "def get_df(data):\n",
    "    df = pd.DataFrame(data)\n",
    "    for col, data_type in columns.items():\n",
    "        if \"INT\" in data_type:\n",
    "            df[col] = pd.to_numeric(df[col], downcast=\"integer\")\n",
    "        elif \"TIME\" in data_type:\n",
    "            df[col] = pd.to_datetime(df[col])\n",
    "    return df\n",
    "\n",
    "def fill_point(df):\n",
    "    for i in df.index:\n",
    "        value = df.at[i, \"point\"]\n",
    "        try:\n",
    "            df.at[i, \"point\"] = str(value[\"coordinates\"])\n",
    "        except:\n",
    "            df.at[i, \"point\"] = None\n",
    "\n",
    "def update_table_pandas(data):\n",
    "    df = get_df(data)\n",
    "    fill_point(df)\n",
    "    df.to_sql(\"sf_fires\", conn, if_exists=\"replace\")"
   ]
  },
  {
   "cell_type": "code",
   "execution_count": 106,
   "metadata": {},
   "outputs": [],
   "source": [
    "monitor_strategy(update_table_pandas, data[:50], results, reinit=False)"
   ]
  },
  {
   "cell_type": "code",
   "execution_count": 107,
   "metadata": {},
   "outputs": [
    {
     "data": {
      "text/html": [
       "<div>\n",
       "<style scoped>\n",
       "    .dataframe tbody tr th:only-of-type {\n",
       "        vertical-align: middle;\n",
       "    }\n",
       "\n",
       "    .dataframe tbody tr th {\n",
       "        vertical-align: top;\n",
       "    }\n",
       "\n",
       "    .dataframe thead th {\n",
       "        text-align: right;\n",
       "    }\n",
       "</style>\n",
       "<table border=\"1\" class=\"dataframe\">\n",
       "  <thead>\n",
       "    <tr style=\"text-align: right;\">\n",
       "      <th></th>\n",
       "      <th>date</th>\n",
       "      <th>strategy</th>\n",
       "      <th>rows</th>\n",
       "      <th>elapsed</th>\n",
       "    </tr>\n",
       "  </thead>\n",
       "  <tbody>\n",
       "    <tr>\n",
       "      <th>0</th>\n",
       "      <td>2021-12-01 00:30:30.956731</td>\n",
       "      <td>&lt;function update_table_for at 0x7f36a2ba71f0&gt;</td>\n",
       "      <td>5</td>\n",
       "      <td>0 days 00:00:02.072320</td>\n",
       "    </tr>\n",
       "    <tr>\n",
       "      <th>1</th>\n",
       "      <td>2021-12-01 00:35:56.507644</td>\n",
       "      <td>&lt;function update_table_many at 0x7f36a2ba7d30&gt;</td>\n",
       "      <td>90</td>\n",
       "      <td>0 days 00:00:01.452725</td>\n",
       "    </tr>\n",
       "    <tr>\n",
       "      <th>2</th>\n",
       "      <td>2021-12-01 00:36:32.500884</td>\n",
       "      <td>&lt;function update_table_many at 0x7f36a2ba7d30&gt;</td>\n",
       "      <td>10000</td>\n",
       "      <td>0 days 00:00:13.283197</td>\n",
       "    </tr>\n",
       "    <tr>\n",
       "      <th>3</th>\n",
       "      <td>2021-12-01 00:37:08.909547</td>\n",
       "      <td>&lt;function update_table_many at 0x7f36a2ba7d30&gt;</td>\n",
       "      <td>100000</td>\n",
       "      <td>0 days 00:04:54.775291</td>\n",
       "    </tr>\n",
       "    <tr>\n",
       "      <th>4</th>\n",
       "      <td>2021-12-01 01:06:25.579237</td>\n",
       "      <td>&lt;function update_table_pandas at 0x7f36a1f04b80&gt;</td>\n",
       "      <td>50</td>\n",
       "      <td>0 days 00:00:06.032035</td>\n",
       "    </tr>\n",
       "  </tbody>\n",
       "</table>\n",
       "</div>"
      ],
      "text/plain": [
       "                        date  \\\n",
       "0 2021-12-01 00:30:30.956731   \n",
       "1 2021-12-01 00:35:56.507644   \n",
       "2 2021-12-01 00:36:32.500884   \n",
       "3 2021-12-01 00:37:08.909547   \n",
       "4 2021-12-01 01:06:25.579237   \n",
       "\n",
       "                                           strategy    rows  \\\n",
       "0     <function update_table_for at 0x7f36a2ba71f0>       5   \n",
       "1    <function update_table_many at 0x7f36a2ba7d30>      90   \n",
       "2    <function update_table_many at 0x7f36a2ba7d30>   10000   \n",
       "3    <function update_table_many at 0x7f36a2ba7d30>  100000   \n",
       "4  <function update_table_pandas at 0x7f36a1f04b80>      50   \n",
       "\n",
       "                 elapsed  \n",
       "0 0 days 00:00:02.072320  \n",
       "1 0 days 00:00:01.452725  \n",
       "2 0 days 00:00:13.283197  \n",
       "3 0 days 00:04:54.775291  \n",
       "4 0 days 00:00:06.032035  "
      ]
     },
     "execution_count": 107,
     "metadata": {},
     "output_type": "execute_result"
    }
   ],
   "source": [
    "results"
   ]
  }
 ],
 "metadata": {
  "interpreter": {
   "hash": "916dbcbb3f70747c44a77c7bcd40155683ae19c65e1c03b4aa3499c5328201f1"
  },
  "kernelspec": {
   "display_name": "Python 3.8.10 64-bit",
   "name": "python3"
  },
  "language_info": {
   "codemirror_mode": {
    "name": "ipython",
    "version": 3
   },
   "file_extension": ".py",
   "mimetype": "text/x-python",
   "name": "python",
   "nbconvert_exporter": "python",
   "pygments_lexer": "ipython3",
   "version": "3.8.10"
  },
  "orig_nbformat": 4
 },
 "nbformat": 4,
 "nbformat_minor": 2
}
