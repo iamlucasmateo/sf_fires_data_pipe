{
 "cells": [
  {
   "cell_type": "code",
   "execution_count": 4,
   "metadata": {},
   "outputs": [],
   "source": [
    "import pandas as pd\n",
    "from config import api_config"
   ]
  },
  {
   "cell_type": "markdown",
   "metadata": {},
   "source": [
    "## Data Types source 1: metadata downloaded from site (.xlsx)"
   ]
  },
  {
   "cell_type": "code",
   "execution_count": 5,
   "metadata": {},
   "outputs": [],
   "source": [
    "data_dict = pd.read_excel(\"../Files/FIR-0001_DataDictionary_fire-incidents__OK.ods\")"
   ]
  },
  {
   "cell_type": "code",
   "execution_count": 6,
   "metadata": {},
   "outputs": [
    {
     "data": {
      "text/html": [
       "<div>\n",
       "<style scoped>\n",
       "    .dataframe tbody tr th:only-of-type {\n",
       "        vertical-align: middle;\n",
       "    }\n",
       "\n",
       "    .dataframe tbody tr th {\n",
       "        vertical-align: top;\n",
       "    }\n",
       "\n",
       "    .dataframe thead th {\n",
       "        text-align: right;\n",
       "    }\n",
       "</style>\n",
       "<table border=\"1\" class=\"dataframe\">\n",
       "  <thead>\n",
       "    <tr style=\"text-align: right;\">\n",
       "      <th></th>\n",
       "      <th>Field Name</th>\n",
       "      <th>Data Type</th>\n",
       "      <th>Definition</th>\n",
       "      <th>Notes (optional)</th>\n",
       "    </tr>\n",
       "  </thead>\n",
       "  <tbody>\n",
       "    <tr>\n",
       "      <th>0</th>\n",
       "      <td>Incident Number</td>\n",
       "      <td>Text</td>\n",
       "      <td>A unique 8-digit number assigned by DEM to thi...</td>\n",
       "      <td>NaN</td>\n",
       "    </tr>\n",
       "    <tr>\n",
       "      <th>1</th>\n",
       "      <td>Exposure Number</td>\n",
       "      <td>Numeric</td>\n",
       "      <td>A sequence number indicates the order in which...</td>\n",
       "      <td>NaN</td>\n",
       "    </tr>\n",
       "    <tr>\n",
       "      <th>2</th>\n",
       "      <td>Address</td>\n",
       "      <td>Text</td>\n",
       "      <td>Address of the incident</td>\n",
       "      <td>NaN</td>\n",
       "    </tr>\n",
       "  </tbody>\n",
       "</table>\n",
       "</div>"
      ],
      "text/plain": [
       "        Field Name Data Type  \\\n",
       "0  Incident Number      Text   \n",
       "1  Exposure Number   Numeric   \n",
       "2          Address      Text   \n",
       "\n",
       "                                          Definition  Notes (optional)  \n",
       "0  A unique 8-digit number assigned by DEM to thi...               NaN  \n",
       "1  A sequence number indicates the order in which...               NaN  \n",
       "2                            Address of the incident               NaN  "
      ]
     },
     "execution_count": 6,
     "metadata": {},
     "output_type": "execute_result"
    }
   ],
   "source": [
    "data_dict.head(3)"
   ]
  },
  {
   "cell_type": "code",
   "execution_count": 7,
   "metadata": {},
   "outputs": [
    {
     "name": "stdout",
     "output_type": "stream",
     "text": [
      "Number of cols: 63\n",
      "Data Types: ['Text', 'Numeric', 'Date & Time', 'Coordinates']\n"
     ]
    }
   ],
   "source": [
    "datadict_cols = list(data_dict[\"Field Name\"])\n",
    "datadict_datatypes = list(data_dict[\"Data Type\"].unique())\n",
    "print(f\"Number of cols: {len(datadict_cols)}\")\n",
    "print(f\"Data Types: {datadict_datatypes}\")"
   ]
  },
  {
   "cell_type": "markdown",
   "metadata": {},
   "source": [
    "## Datatypes source 2: Socrata metadata API"
   ]
  },
  {
   "cell_type": "code",
   "execution_count": 8,
   "metadata": {},
   "outputs": [],
   "source": [
    "import requests"
   ]
  },
  {
   "cell_type": "code",
   "execution_count": 9,
   "metadata": {},
   "outputs": [],
   "source": [
    "APP_TOKEN = api_config[\"app_token\"]\n",
    "\n",
    "headers = {\n",
    "  \"X-App-Token\": APP_TOKEN,\n",
    "  \"Content-Type\": \"application/json\"\n",
    "}"
   ]
  },
  {
   "cell_type": "code",
   "execution_count": 10,
   "metadata": {},
   "outputs": [],
   "source": [
    "DATASET_ID = \"wr8u-xric\"\n",
    "METADATA_QUERY = f\"?ids={DATASET_ID}\"\n",
    "METADATA_URL = f\"http://api.us.socrata.com/api/catalog/v1\"\n",
    "\n",
    "# source 2: Socrata metadata request\n",
    "metadata_req = requests.get(\n",
    "    f\"{METADATA_URL}{METADATA_QUERY}\",\n",
    "    headers=headers\n",
    ")\n",
    "\n",
    "metadata = metadata_req.json()"
   ]
  },
  {
   "cell_type": "code",
   "execution_count": 11,
   "metadata": {},
   "outputs": [
    {
     "name": "stdout",
     "output_type": "stream",
     "text": [
      "Number of cols: 64\n",
      "Data Types: {'Text', 'Number', 'Point'}\n"
     ]
    }
   ],
   "source": [
    "resource_metadata = metadata[\"results\"][0][\"resource\"]\n",
    "metadata_cols = resource_metadata[\"columns_name\"]\n",
    "metadata_datatypes = resource_metadata[\"columns_datatype\"]\n",
    "print(f\"Number of cols: {len(metadata_cols)}\")\n",
    "print(f\"Data Types: {set(metadata_datatypes)}\")"
   ]
  },
  {
   "cell_type": "code",
   "execution_count": 12,
   "metadata": {},
   "outputs": [
    {
     "name": "stdout",
     "output_type": "stream",
     "text": [
      "Cols not in datadict: ['ID', 'neighborhood_district', 'point', 'zipcode']\n",
      "Cols not in metadata: ['Zipcode', 'Location', 'Neighborhood District']\n"
     ]
    }
   ],
   "source": [
    "data_dict_missing = [c for c in metadata_cols if c not in datadict_cols ]\n",
    "metadata_missing = [c for c in datadict_cols if c not in metadata_cols ]\n",
    "print(f\"Cols not in datadict: {data_dict_missing}\")\n",
    "print(f\"Cols not in metadata: {metadata_missing}\")"
   ]
  },
  {
   "cell_type": "code",
   "execution_count": 13,
   "metadata": {},
   "outputs": [
    {
     "name": "stdout",
     "output_type": "stream",
     "text": [
      "Data Type for 'point' column: Point\n"
     ]
    }
   ],
   "source": [
    "point_index = metadata_cols.index(\"point\")\n",
    "print(f\"Data Type for 'point' column: {metadata_datatypes[point_index]}\")"
   ]
  },
  {
   "cell_type": "markdown",
   "metadata": {},
   "source": [
    "## Data types source 3: actual data"
   ]
  },
  {
   "cell_type": "code",
   "execution_count": 14,
   "metadata": {},
   "outputs": [],
   "source": [
    "import json"
   ]
  },
  {
   "cell_type": "code",
   "execution_count": 16,
   "metadata": {},
   "outputs": [],
   "source": [
    "# previously downloaded json\n",
    "with open('../Data/data.json') as json_file:\n",
    "    api_data = json.load(json_file)"
   ]
  },
  {
   "cell_type": "code",
   "execution_count": 17,
   "metadata": {},
   "outputs": [],
   "source": [
    "# check 1: all data points from json \n",
    "# have keys equal to column names\n",
    "cols_diff = []\n",
    "for i, item in enumerate(api_data):\n",
    "    diff = [ c for c in set(item.keys()) if c not in metadata_cols ]\n",
    "    if len(diff) > 0:\n",
    "        cols_diff.append((i, diff))"
   ]
  },
  {
   "cell_type": "code",
   "execution_count": 18,
   "metadata": {},
   "outputs": [
    {
     "data": {
      "text/plain": [
       "['Incident Number',\n",
       " 'Exposure Number',\n",
       " 'Address',\n",
       " 'Incident Date',\n",
       " 'Call Number']"
      ]
     },
     "execution_count": 18,
     "metadata": {},
     "output_type": "execute_result"
    }
   ],
   "source": [
    "datadict_cols[:5]"
   ]
  },
  {
   "cell_type": "code",
   "execution_count": 19,
   "metadata": {},
   "outputs": [
    {
     "data": {
      "text/plain": [
       "['incident_number', 'id', 'address', 'action_taken_primary', 'other_units']"
      ]
     },
     "execution_count": 19,
     "metadata": {},
     "output_type": "execute_result"
    }
   ],
   "source": [
    "cols_diff[0][1][:5]"
   ]
  },
  {
   "cell_type": "markdown",
   "metadata": {},
   "source": [
    "## JSON Metadata (manual download)"
   ]
  },
  {
   "cell_type": "code",
   "execution_count": 20,
   "metadata": {},
   "outputs": [],
   "source": [
    "# this json was manually downloaded from the site\n",
    "with open(\"../Data/sf-fires-download.json\") as json_file:\n",
    "    download = json.load(json_file)"
   ]
  },
  {
   "cell_type": "code",
   "execution_count": 21,
   "metadata": {},
   "outputs": [
    {
     "data": {
      "text/plain": [
       "dict"
      ]
     },
     "execution_count": 21,
     "metadata": {},
     "output_type": "execute_result"
    }
   ],
   "source": [
    "type(download)"
   ]
  },
  {
   "cell_type": "code",
   "execution_count": 22,
   "metadata": {},
   "outputs": [
    {
     "data": {
      "text/plain": [
       "dict_keys(['meta', 'data'])"
      ]
     },
     "execution_count": 22,
     "metadata": {},
     "output_type": "execute_result"
    }
   ],
   "source": [
    "download.keys()"
   ]
  },
  {
   "cell_type": "markdown",
   "metadata": {},
   "source": [
    "### Meta exploration"
   ]
  },
  {
   "cell_type": "code",
   "execution_count": 23,
   "metadata": {},
   "outputs": [
    {
     "data": {
      "text/plain": [
       "dict"
      ]
     },
     "execution_count": 23,
     "metadata": {},
     "output_type": "execute_result"
    }
   ],
   "source": [
    "type(download[\"meta\"])"
   ]
  },
  {
   "cell_type": "code",
   "execution_count": 24,
   "metadata": {},
   "outputs": [
    {
     "data": {
      "text/plain": [
       "dict_keys(['view'])"
      ]
     },
     "execution_count": 24,
     "metadata": {},
     "output_type": "execute_result"
    }
   ],
   "source": [
    "download[\"meta\"].keys()"
   ]
  },
  {
   "cell_type": "code",
   "execution_count": 25,
   "metadata": {},
   "outputs": [
    {
     "data": {
      "text/plain": [
       "dict_keys(['id', 'name', 'assetType', 'averageRating', 'category', 'createdAt', 'description', 'displayType', 'downloadCount', 'hideFromCatalog', 'hideFromDataJson', 'licenseId', 'newBackend', 'numberOfComments', 'oid', 'provenance', 'publicationAppendEnabled', 'publicationDate', 'publicationGroup', 'publicationStage', 'rowIdentifierColumnId', 'rowsUpdatedAt', 'rowsUpdatedBy', 'tableId', 'totalTimesRated', 'viewCount', 'viewLastModified', 'viewType', 'approvals', 'columns', 'disabledFeatureFlags', 'grants', 'license', 'metadata', 'owner', 'query', 'rights', 'tableAuthor', 'flags'])"
      ]
     },
     "execution_count": 25,
     "metadata": {},
     "output_type": "execute_result"
    }
   ],
   "source": [
    "download[\"meta\"][\"view\"].keys()"
   ]
  },
  {
   "cell_type": "code",
   "execution_count": 26,
   "metadata": {},
   "outputs": [
    {
     "data": {
      "text/plain": [
       "list"
      ]
     },
     "execution_count": 26,
     "metadata": {},
     "output_type": "execute_result"
    }
   ],
   "source": [
    "type(download[\"meta\"][\"view\"][\"columns\"])"
   ]
  },
  {
   "cell_type": "code",
   "execution_count": 27,
   "metadata": {},
   "outputs": [
    {
     "data": {
      "text/plain": [
       "72"
      ]
     },
     "execution_count": 27,
     "metadata": {},
     "output_type": "execute_result"
    }
   ],
   "source": [
    "len(download[\"meta\"][\"view\"][\"columns\"])"
   ]
  },
  {
   "cell_type": "code",
   "execution_count": 28,
   "metadata": {},
   "outputs": [
    {
     "data": {
      "text/plain": [
       "[{'id': 496028758,\n",
       "  'name': 'Automatic Extinguishing Sytem Failure Reason',\n",
       "  'dataTypeName': 'text',\n",
       "  'description': '',\n",
       "  'fieldName': 'automatic_extinguishing_sytem_failure_reason',\n",
       "  'position': 60,\n",
       "  'renderTypeName': 'text',\n",
       "  'tableColumnId': 33383966,\n",
       "  'width': 628,\n",
       "  'cachedContents': {'non_null': '9624',\n",
       "   'largest': 'U -Undetermined',\n",
       "   'null': '564266',\n",
       "   'top': [{'item': '-', 'count': '9563'},\n",
       "    {'item': 'Fire not in area protected by the system', 'count': '24'},\n",
       "    {'item': '5 -Fire not in area protected by the syste', 'count': '9'},\n",
       "    {'item': 'System shut off', 'count': '6'},\n",
       "    {'item': 'U -Undetermined', 'count': '5'},\n",
       "    {'item': 'Undetermined', 'count': '4'},\n",
       "    {'item': '0 -Reason system not effective, other', 'count': '3'},\n",
       "    {'item': '1 -System shut off', 'count': '2'},\n",
       "    {'item': 'Not enough agent discharged to control the fire', 'count': '2'},\n",
       "    {'item': 'Reason system not effective, other', 'count': '2'},\n",
       "    {'item': '3 -Agent discharged, did not reach the fir', 'count': '1'},\n",
       "    {'item': 'Agent discharged, but did not reach the fire', 'count': '1'},\n",
       "    {'item': 'Inappropriate system for the type of fire', 'count': '1'},\n",
       "    {'item': '7 -Lack of maintenance, including corrosio', 'count': '1'}],\n",
       "   'smallest': '-',\n",
       "   'count': '573890',\n",
       "   'cardinality': '14'},\n",
       "  'format': {}},\n",
       " {'id': 496028759,\n",
       "  'name': 'Number of Sprinkler Heads Operating',\n",
       "  'dataTypeName': 'number',\n",
       "  'description': '',\n",
       "  'fieldName': 'number_of_sprinkler_heads_operating',\n",
       "  'position': 61,\n",
       "  'renderTypeName': 'number',\n",
       "  'tableColumnId': 33383967,\n",
       "  'width': 520,\n",
       "  'cachedContents': {'non_null': '6832',\n",
       "   'largest': '20',\n",
       "   'null': '567058',\n",
       "   'top': [{'item': '0', 'count': '6336'},\n",
       "    {'item': '1', 'count': '412'},\n",
       "    {'item': '2', 'count': '53'},\n",
       "    {'item': '3', 'count': '18'},\n",
       "    {'item': '5', 'count': '6'},\n",
       "    {'item': '4', 'count': '5'},\n",
       "    {'item': '6', 'count': '1'},\n",
       "    {'item': '20', 'count': '1'}],\n",
       "   'smallest': '0',\n",
       "   'count': '573890',\n",
       "   'cardinality': '8'},\n",
       "  'format': {'align': 'left'}},\n",
       " {'id': 496028760,\n",
       "  'name': 'Supervisor District',\n",
       "  'dataTypeName': 'text',\n",
       "  'description': '',\n",
       "  'fieldName': 'supervisor_district',\n",
       "  'position': 62,\n",
       "  'renderTypeName': 'text',\n",
       "  'tableColumnId': 33383968,\n",
       "  'width': 328,\n",
       "  'cachedContents': {'non_null': '283982',\n",
       "   'largest': '9',\n",
       "   'null': '289908',\n",
       "   'top': [{'item': '10', 'count': '52801'},\n",
       "    {'item': '3', 'count': '43402'},\n",
       "    {'item': '5', 'count': '37892'},\n",
       "    {'item': '7', 'count': '31595'},\n",
       "    {'item': '6', 'count': '29266'},\n",
       "    {'item': '2', 'count': '24917'},\n",
       "    {'item': '8', 'count': '23590'},\n",
       "    {'item': '9', 'count': '22699'},\n",
       "    {'item': '1', 'count': '11259'},\n",
       "    {'item': '11', 'count': '6386'},\n",
       "    {'item': '4', 'count': '175'}],\n",
       "   'smallest': '1',\n",
       "   'count': '573890',\n",
       "   'cardinality': '11'},\n",
       "  'format': {}},\n",
       " {'id': 496028766,\n",
       "  'name': 'neighborhood_district',\n",
       "  'dataTypeName': 'text',\n",
       "  'description': '',\n",
       "  'fieldName': 'neighborhood_district',\n",
       "  'position': 63,\n",
       "  'renderTypeName': 'text',\n",
       "  'tableColumnId': 115949825,\n",
       "  'cachedContents': {'non_null': '573800',\n",
       "   'largest': 'West of Twin Peaks',\n",
       "   'null': '90',\n",
       "   'top': [{'item': 'Tenderloin', 'count': '51073'},\n",
       "    {'item': 'Mission', 'count': '48017'},\n",
       "    {'item': 'Financial District/South Beach', 'count': '46174'},\n",
       "    {'item': 'South of Market', 'count': '42201'},\n",
       "    {'item': 'Bayview Hunters Point', 'count': '40064'},\n",
       "    {'item': 'Western Addition', 'count': '23305'},\n",
       "    {'item': 'Sunset/Parkside', 'count': '21679'},\n",
       "    {'item': 'Nob Hill', 'count': '19569'},\n",
       "    {'item': 'Pacific Heights', 'count': '16107'},\n",
       "    {'item': 'Castro/Upper Market', 'count': '14705'},\n",
       "    {'item': 'Hayes Valley', 'count': '14663'},\n",
       "    {'item': 'Marina', 'count': '14591'},\n",
       "    {'item': 'Outer Richmond', 'count': '14508'},\n",
       "    {'item': 'Chinatown', 'count': '13962'},\n",
       "    {'item': 'West of Twin Peaks', 'count': '13942'},\n",
       "    {'item': 'Potrero Hill', 'count': '13055'},\n",
       "    {'item': 'North Beach', 'count': '11679'},\n",
       "    {'item': 'Bernal Heights', 'count': '11437'},\n",
       "    {'item': 'Russian Hill', 'count': '10617'},\n",
       "    {'item': 'Inner Sunset', 'count': '10617'}],\n",
       "   'smallest': 'Bayview Hunters Point',\n",
       "   'count': '573890',\n",
       "   'cardinality': '41'},\n",
       "  'format': {}},\n",
       " {'id': 496028762,\n",
       "  'name': 'point',\n",
       "  'dataTypeName': 'point',\n",
       "  'description': '',\n",
       "  'fieldName': 'point',\n",
       "  'position': 64,\n",
       "  'renderTypeName': 'point',\n",
       "  'tableColumnId': 115946926,\n",
       "  'cachedContents': {'non_null': '573800',\n",
       "   'null': '90',\n",
       "   'top': [{'item': {'coordinates': [-122.38416, 37.616901], 'type': 'Point'},\n",
       "     'count': '8288'},\n",
       "    {'item': {'coordinates': [-122.419672, 37.76505], 'type': 'Point'},\n",
       "     'count': '985'},\n",
       "    {'item': {'coordinates': [-122.412784, 37.784866], 'type': 'Point'},\n",
       "     'count': '852'},\n",
       "    {'item': {'coordinates': [-122.456145, 37.748644], 'type': 'Point'},\n",
       "     'count': '837'},\n",
       "    {'item': {'coordinates': [-122.414714, 37.776231], 'type': 'Point'},\n",
       "     'count': '696'},\n",
       "    {'item': {'coordinates': [-122.405833, 37.785745], 'type': 'Point'},\n",
       "     'count': '686'},\n",
       "    {'item': {'coordinates': [-122.413161, 37.777456], 'type': 'Point'},\n",
       "     'count': '665'},\n",
       "    {'item': {'coordinates': [-122.407158, 37.783947], 'type': 'Point'},\n",
       "     'count': '643'},\n",
       "    {'item': {'coordinates': [-122.410293, 37.78223], 'type': 'Point'},\n",
       "     'count': '641'},\n",
       "    {'item': {'coordinates': [-122.406312, 37.75541], 'type': 'Point'},\n",
       "     'count': '631'},\n",
       "    {'item': {'coordinates': [-122.418749, 37.755437], 'type': 'Point'},\n",
       "     'count': '623'},\n",
       "    {'item': {'coordinates': [-122.417505, 37.77654], 'type': 'Point'},\n",
       "     'count': '622'},\n",
       "    {'item': {'coordinates': [-122.476826, 37.728471], 'type': 'Point'},\n",
       "     'count': '612'},\n",
       "    {'item': {'coordinates': [-122.412393, 37.780478], 'type': 'Point'},\n",
       "     'count': '599'},\n",
       "    {'item': {'coordinates': [-122.418137, 37.749041], 'type': 'Point'},\n",
       "     'count': '598'},\n",
       "    {'item': {'coordinates': [-122.41974, 37.785893], 'type': 'Point'},\n",
       "     'count': '598'},\n",
       "    {'item': {'coordinates': [-122.416721, 37.757168], 'type': 'Point'},\n",
       "     'count': '598'},\n",
       "    {'item': {'coordinates': [-122.42812423, 37.78148613], 'type': 'Point'},\n",
       "     'count': '571'},\n",
       "    {'item': {'coordinates': [-122.427401, 37.782057], 'type': 'Point'},\n",
       "     'count': '565'},\n",
       "    {'item': {'coordinates': [-122.415695, 37.782585], 'type': 'Point'},\n",
       "     'count': '544'}],\n",
       "   'count': '573890',\n",
       "   'cardinality': '88826'},\n",
       "  'format': {}}]"
      ]
     },
     "execution_count": 28,
     "metadata": {},
     "output_type": "execute_result"
    }
   ],
   "source": [
    "download_meta_cols = download[\"meta\"][\"view\"][\"columns\"]\n",
    "download_meta_cols[-5:]"
   ]
  },
  {
   "cell_type": "markdown",
   "metadata": {},
   "source": [
    "### \"Data\" key exploration"
   ]
  },
  {
   "cell_type": "code",
   "execution_count": 29,
   "metadata": {},
   "outputs": [
    {
     "data": {
      "text/plain": [
       "['row-6jzi-i6d4~vfd8',\n",
       " '00000000-0000-0000-09C7-D3EBD32C3454',\n",
       " 0,\n",
       " 1638102821,\n",
       " None,\n",
       " 1638102821,\n",
       " None,\n",
       " '{ }',\n",
       " '8028304',\n",
       " '0',\n",
       " '080283040',\n",
       " '150 Elsie St.',\n",
       " '2008-04-01T00:00:00',\n",
       " '080920257',\n",
       " '2008-04-01T18:06:37',\n",
       " '2008-04-01T18:15:19',\n",
       " '2008-04-01T18:21:48',\n",
       " 'SF',\n",
       " '94110',\n",
       " 'B06',\n",
       " '11',\n",
       " None,\n",
       " '1',\n",
       " '4',\n",
       " '0',\n",
       " '0',\n",
       " '0',\n",
       " '0',\n",
       " 'E11',\n",
       " None,\n",
       " None,\n",
       " '0',\n",
       " '0',\n",
       " '0',\n",
       " '0',\n",
       " '1',\n",
       " '412 - Gas leak (natural gas or LPG)',\n",
       " 'None',\n",
       " '86 - Investigate',\n",
       " '-',\n",
       " '-',\n",
       " '-',\n",
       " '962 - Residential street, road or residential dr',\n",
       " None,\n",
       " None,\n",
       " None,\n",
       " None,\n",
       " None,\n",
       " None,\n",
       " None,\n",
       " None,\n",
       " None,\n",
       " None,\n",
       " None,\n",
       " None,\n",
       " None,\n",
       " None,\n",
       " None,\n",
       " None,\n",
       " None,\n",
       " None,\n",
       " None,\n",
       " None,\n",
       " None,\n",
       " None,\n",
       " None,\n",
       " None,\n",
       " None,\n",
       " None,\n",
       " '9',\n",
       " 'Bernal Heights',\n",
       " 'POINT (-122.41837339 37.74208979)']"
      ]
     },
     "execution_count": 29,
     "metadata": {},
     "output_type": "execute_result"
    }
   ],
   "source": [
    "download[\"data\"][0]"
   ]
  },
  {
   "cell_type": "markdown",
   "metadata": {},
   "source": [
    "### Download vs API data"
   ]
  },
  {
   "cell_type": "code",
   "execution_count": 30,
   "metadata": {},
   "outputs": [],
   "source": [
    "api_field_names = set()\n",
    "for item in api_data:\n",
    "    api_field_names = api_field_names.union(set(item.keys()))"
   ]
  },
  {
   "cell_type": "code",
   "execution_count": 31,
   "metadata": {},
   "outputs": [],
   "source": [
    "download_field_names = []\n",
    "download_names = []\n",
    "download_datatypes = set()\n",
    "for col in download_meta_cols:\n",
    "    download_names.append(col[\"name\"])\n",
    "    download_field_names.append(col[\"fieldName\"])\n",
    "    download_datatypes.add(col[\"dataTypeName\"])"
   ]
  },
  {
   "cell_type": "code",
   "execution_count": 32,
   "metadata": {},
   "outputs": [],
   "source": [
    "# check against api data\n",
    "download_missing = [ c for c in api_field_names if c not in download_field_names ]\n",
    "api_missing = [ c for c in download_field_names if c not in api_field_names ]"
   ]
  },
  {
   "cell_type": "code",
   "execution_count": 33,
   "metadata": {},
   "outputs": [
    {
     "name": "stdout",
     "output_type": "stream",
     "text": [
      "Columns not in downloaded file: []\n",
      "Columns not in API call: [':sid', ':id', ':position', ':created_at', ':created_meta', ':updated_at', ':updated_meta', ':meta']\n"
     ]
    }
   ],
   "source": [
    "print(f\"Columns not in downloaded file: {download_missing}\")\n",
    "print(f\"Columns not in API call: {api_missing}\")"
   ]
  },
  {
   "cell_type": "code",
   "execution_count": 34,
   "metadata": {},
   "outputs": [
    {
     "data": {
      "text/plain": [
       "{'meta_data', 'number', 'point', 'text'}"
      ]
     },
     "execution_count": 34,
     "metadata": {},
     "output_type": "execute_result"
    }
   ],
   "source": [
    "download_datatypes"
   ]
  },
  {
   "cell_type": "markdown",
   "metadata": {},
   "source": [
    "### Datatypes: json download vs metadata"
   ]
  },
  {
   "cell_type": "code",
   "execution_count": 35,
   "metadata": {},
   "outputs": [],
   "source": [
    "download_numeric_cols = []\n",
    "for col in download_meta_cols:\n",
    "    if col[\"dataTypeName\"] == \"number\":\n",
    "        download_numeric_cols.append(col[\"name\"])\n",
    "\n",
    "data_dict_numeric = data_dict[data_dict[\"Data Type\"] == \"Numeric\"][\"Field Name\"].unique()"
   ]
  },
  {
   "cell_type": "code",
   "execution_count": 36,
   "metadata": {},
   "outputs": [
    {
     "data": {
      "text/plain": [
       "[]"
      ]
     },
     "execution_count": 36,
     "metadata": {},
     "output_type": "execute_result"
    }
   ],
   "source": [
    "numeric_diff = [ c for c in data_dict_numeric if c not in download_numeric_cols ]\n",
    "numeric_diff"
   ]
  },
  {
   "cell_type": "code",
   "execution_count": 37,
   "metadata": {},
   "outputs": [
    {
     "data": {
      "text/plain": [
       "['Incident Number',\n",
       " 'Exposure Number',\n",
       " 'Suppression Units',\n",
       " 'Suppression Personnel',\n",
       " 'EMS Units',\n",
       " 'EMS Personnel',\n",
       " 'Other Units',\n",
       " 'Other Personnel',\n",
       " 'Estimated Property Loss',\n",
       " 'Estimated Contents Loss',\n",
       " 'Fire Fatalities',\n",
       " 'Fire Injuries',\n",
       " 'Civilian Fatalities',\n",
       " 'Civilian Injuries',\n",
       " 'Number of Alarms',\n",
       " 'Floor of Fire Origin',\n",
       " 'Number of floors with minimum damage',\n",
       " 'Number of floors with significant damage',\n",
       " 'Number of floors with heavy damage',\n",
       " 'Number of floors with extreme damage',\n",
       " 'Number of Sprinkler Heads Operating']"
      ]
     },
     "execution_count": 37,
     "metadata": {},
     "output_type": "execute_result"
    }
   ],
   "source": [
    "download_numeric_cols"
   ]
  },
  {
   "cell_type": "markdown",
   "metadata": {},
   "source": [
    "### pandas data conversion"
   ]
  },
  {
   "cell_type": "code",
   "execution_count": 38,
   "metadata": {},
   "outputs": [],
   "source": [
    "df = pd.DataFrame.from_records(download[\"data\"])"
   ]
  },
  {
   "cell_type": "code",
   "execution_count": 39,
   "metadata": {},
   "outputs": [
    {
     "data": {
      "text/html": [
       "<div>\n",
       "<style scoped>\n",
       "    .dataframe tbody tr th:only-of-type {\n",
       "        vertical-align: middle;\n",
       "    }\n",
       "\n",
       "    .dataframe tbody tr th {\n",
       "        vertical-align: top;\n",
       "    }\n",
       "\n",
       "    .dataframe thead th {\n",
       "        text-align: right;\n",
       "    }\n",
       "</style>\n",
       "<table border=\"1\" class=\"dataframe\">\n",
       "  <thead>\n",
       "    <tr style=\"text-align: right;\">\n",
       "      <th></th>\n",
       "      <th>:sid</th>\n",
       "      <th>:id</th>\n",
       "      <th>:position</th>\n",
       "      <th>:created_at</th>\n",
       "      <th>:created_meta</th>\n",
       "      <th>:updated_at</th>\n",
       "      <th>:updated_meta</th>\n",
       "      <th>:meta</th>\n",
       "      <th>incident_number</th>\n",
       "      <th>exposure_number</th>\n",
       "      <th>...</th>\n",
       "      <th>detector_effectiveness</th>\n",
       "      <th>detector_failure_reason</th>\n",
       "      <th>automatic_extinguishing_system_present</th>\n",
       "      <th>automatic_extinguishing_sytem_type</th>\n",
       "      <th>automatic_extinguishing_sytem_perfomance</th>\n",
       "      <th>automatic_extinguishing_sytem_failure_reason</th>\n",
       "      <th>number_of_sprinkler_heads_operating</th>\n",
       "      <th>supervisor_district</th>\n",
       "      <th>neighborhood_district</th>\n",
       "      <th>point</th>\n",
       "    </tr>\n",
       "  </thead>\n",
       "  <tbody>\n",
       "    <tr>\n",
       "      <th>0</th>\n",
       "      <td>row-6jzi-i6d4~vfd8</td>\n",
       "      <td>00000000-0000-0000-09C7-D3EBD32C3454</td>\n",
       "      <td>0</td>\n",
       "      <td>1638102821</td>\n",
       "      <td>None</td>\n",
       "      <td>1638102821</td>\n",
       "      <td>None</td>\n",
       "      <td>{ }</td>\n",
       "      <td>8028304</td>\n",
       "      <td>0</td>\n",
       "      <td>...</td>\n",
       "      <td>None</td>\n",
       "      <td>None</td>\n",
       "      <td>None</td>\n",
       "      <td>None</td>\n",
       "      <td>None</td>\n",
       "      <td>None</td>\n",
       "      <td>None</td>\n",
       "      <td>9</td>\n",
       "      <td>Bernal Heights</td>\n",
       "      <td>POINT (-122.41837339 37.74208979)</td>\n",
       "    </tr>\n",
       "    <tr>\n",
       "      <th>1</th>\n",
       "      <td>row-ufeh~vmy3-3wxn</td>\n",
       "      <td>00000000-0000-0000-6556-4158A5282F17</td>\n",
       "      <td>0</td>\n",
       "      <td>1638102821</td>\n",
       "      <td>None</td>\n",
       "      <td>1638102821</td>\n",
       "      <td>None</td>\n",
       "      <td>{ }</td>\n",
       "      <td>8028303</td>\n",
       "      <td>0</td>\n",
       "      <td>...</td>\n",
       "      <td>None</td>\n",
       "      <td>None</td>\n",
       "      <td>None</td>\n",
       "      <td>None</td>\n",
       "      <td>None</td>\n",
       "      <td>None</td>\n",
       "      <td>None</td>\n",
       "      <td>10</td>\n",
       "      <td>Potrero Hill</td>\n",
       "      <td>POINT (-122.39489 37.756291)</td>\n",
       "    </tr>\n",
       "    <tr>\n",
       "      <th>2</th>\n",
       "      <td>row-g8xs.26dr_zxem</td>\n",
       "      <td>00000000-0000-0000-841C-DB78FD72E2E6</td>\n",
       "      <td>0</td>\n",
       "      <td>1638102821</td>\n",
       "      <td>None</td>\n",
       "      <td>1638102821</td>\n",
       "      <td>None</td>\n",
       "      <td>{ }</td>\n",
       "      <td>8028309</td>\n",
       "      <td>0</td>\n",
       "      <td>...</td>\n",
       "      <td>None</td>\n",
       "      <td>None</td>\n",
       "      <td>None</td>\n",
       "      <td>None</td>\n",
       "      <td>None</td>\n",
       "      <td>None</td>\n",
       "      <td>None</td>\n",
       "      <td>None</td>\n",
       "      <td>South of Market</td>\n",
       "      <td>POINT (-122.407468 37.78008)</td>\n",
       "    </tr>\n",
       "  </tbody>\n",
       "</table>\n",
       "<p>3 rows × 72 columns</p>\n",
       "</div>"
      ],
      "text/plain": [
       "                 :sid                                   :id  :position  \\\n",
       "0  row-6jzi-i6d4~vfd8  00000000-0000-0000-09C7-D3EBD32C3454          0   \n",
       "1  row-ufeh~vmy3-3wxn  00000000-0000-0000-6556-4158A5282F17          0   \n",
       "2  row-g8xs.26dr_zxem  00000000-0000-0000-841C-DB78FD72E2E6          0   \n",
       "\n",
       "   :created_at :created_meta  :updated_at :updated_meta :meta incident_number  \\\n",
       "0   1638102821          None   1638102821          None   { }         8028304   \n",
       "1   1638102821          None   1638102821          None   { }         8028303   \n",
       "2   1638102821          None   1638102821          None   { }         8028309   \n",
       "\n",
       "  exposure_number  ... detector_effectiveness detector_failure_reason  \\\n",
       "0               0  ...                   None                    None   \n",
       "1               0  ...                   None                    None   \n",
       "2               0  ...                   None                    None   \n",
       "\n",
       "  automatic_extinguishing_system_present automatic_extinguishing_sytem_type  \\\n",
       "0                                   None                               None   \n",
       "1                                   None                               None   \n",
       "2                                   None                               None   \n",
       "\n",
       "  automatic_extinguishing_sytem_perfomance  \\\n",
       "0                                     None   \n",
       "1                                     None   \n",
       "2                                     None   \n",
       "\n",
       "  automatic_extinguishing_sytem_failure_reason  \\\n",
       "0                                         None   \n",
       "1                                         None   \n",
       "2                                         None   \n",
       "\n",
       "  number_of_sprinkler_heads_operating supervisor_district  \\\n",
       "0                                None                   9   \n",
       "1                                None                  10   \n",
       "2                                None                None   \n",
       "\n",
       "  neighborhood_district                              point  \n",
       "0        Bernal Heights  POINT (-122.41837339 37.74208979)  \n",
       "1          Potrero Hill       POINT (-122.39489 37.756291)  \n",
       "2       South of Market       POINT (-122.407468 37.78008)  \n",
       "\n",
       "[3 rows x 72 columns]"
      ]
     },
     "execution_count": 39,
     "metadata": {},
     "output_type": "execute_result"
    }
   ],
   "source": [
    "df.columns = download_field_names\n",
    "df.head(3)"
   ]
  },
  {
   "cell_type": "code",
   "execution_count": 40,
   "metadata": {},
   "outputs": [],
   "source": [
    "import numpy as np"
   ]
  },
  {
   "cell_type": "code",
   "execution_count": 41,
   "metadata": {},
   "outputs": [],
   "source": [
    "for col in download_meta_cols:\n",
    "    col_field_name = col[\"fieldName\"]\n",
    "    if col[\"dataTypeName\"] == \"number\":\n",
    "        df[col_field_name] = pd.to_numeric(df[col_field_name])"
   ]
  },
  {
   "cell_type": "code",
   "execution_count": 42,
   "metadata": {},
   "outputs": [],
   "source": [
    "numeric_cols_field = []\n",
    "for col in download_meta_cols:\n",
    "    if col[\"dataTypeName\"] == \"number\":\n",
    "        numeric_cols_field.append(col[\"fieldName\"])"
   ]
  },
  {
   "cell_type": "code",
   "execution_count": 43,
   "metadata": {},
   "outputs": [
    {
     "data": {
      "text/html": [
       "<div>\n",
       "<style scoped>\n",
       "    .dataframe tbody tr th:only-of-type {\n",
       "        vertical-align: middle;\n",
       "    }\n",
       "\n",
       "    .dataframe tbody tr th {\n",
       "        vertical-align: top;\n",
       "    }\n",
       "\n",
       "    .dataframe thead th {\n",
       "        text-align: right;\n",
       "    }\n",
       "</style>\n",
       "<table border=\"1\" class=\"dataframe\">\n",
       "  <thead>\n",
       "    <tr style=\"text-align: right;\">\n",
       "      <th></th>\n",
       "      <th>max</th>\n",
       "      <th>min</th>\n",
       "    </tr>\n",
       "  </thead>\n",
       "  <tbody>\n",
       "    <tr>\n",
       "      <th>incident_number</th>\n",
       "      <td>21145805.0</td>\n",
       "      <td>3000001.0</td>\n",
       "    </tr>\n",
       "    <tr>\n",
       "      <th>exposure_number</th>\n",
       "      <td>5.0</td>\n",
       "      <td>0.0</td>\n",
       "    </tr>\n",
       "    <tr>\n",
       "      <th>suppression_units</th>\n",
       "      <td>3333.0</td>\n",
       "      <td>0.0</td>\n",
       "    </tr>\n",
       "    <tr>\n",
       "      <th>suppression_personnel</th>\n",
       "      <td>5960.0</td>\n",
       "      <td>0.0</td>\n",
       "    </tr>\n",
       "    <tr>\n",
       "      <th>ems_units</th>\n",
       "      <td>150.0</td>\n",
       "      <td>0.0</td>\n",
       "    </tr>\n",
       "    <tr>\n",
       "      <th>ems_personnel</th>\n",
       "      <td>312.0</td>\n",
       "      <td>0.0</td>\n",
       "    </tr>\n",
       "    <tr>\n",
       "      <th>other_units</th>\n",
       "      <td>1000.0</td>\n",
       "      <td>0.0</td>\n",
       "    </tr>\n",
       "    <tr>\n",
       "      <th>other_personnel</th>\n",
       "      <td>1000.0</td>\n",
       "      <td>0.0</td>\n",
       "    </tr>\n",
       "    <tr>\n",
       "      <th>estimated_property_loss</th>\n",
       "      <td>100000000.0</td>\n",
       "      <td>-25000.0</td>\n",
       "    </tr>\n",
       "    <tr>\n",
       "      <th>estimated_contents_loss</th>\n",
       "      <td>100000000.0</td>\n",
       "      <td>-5000.0</td>\n",
       "    </tr>\n",
       "    <tr>\n",
       "      <th>fire_fatalities</th>\n",
       "      <td>2.0</td>\n",
       "      <td>0.0</td>\n",
       "    </tr>\n",
       "    <tr>\n",
       "      <th>fire_injuries</th>\n",
       "      <td>9.0</td>\n",
       "      <td>0.0</td>\n",
       "    </tr>\n",
       "    <tr>\n",
       "      <th>civilian_fatalities</th>\n",
       "      <td>3.0</td>\n",
       "      <td>0.0</td>\n",
       "    </tr>\n",
       "    <tr>\n",
       "      <th>civilian_injuries</th>\n",
       "      <td>24.0</td>\n",
       "      <td>0.0</td>\n",
       "    </tr>\n",
       "    <tr>\n",
       "      <th>number_of_alarms</th>\n",
       "      <td>5.0</td>\n",
       "      <td>1.0</td>\n",
       "    </tr>\n",
       "    <tr>\n",
       "      <th>floor_of_fire_origin</th>\n",
       "      <td>105.0</td>\n",
       "      <td>-3.0</td>\n",
       "    </tr>\n",
       "    <tr>\n",
       "      <th>number_of_floors_with_minimum_damage</th>\n",
       "      <td>5.0</td>\n",
       "      <td>0.0</td>\n",
       "    </tr>\n",
       "    <tr>\n",
       "      <th>number_of_floors_with_significant_damage</th>\n",
       "      <td>7.0</td>\n",
       "      <td>0.0</td>\n",
       "    </tr>\n",
       "    <tr>\n",
       "      <th>number_of_floors_with_heavy_damage</th>\n",
       "      <td>5.0</td>\n",
       "      <td>0.0</td>\n",
       "    </tr>\n",
       "    <tr>\n",
       "      <th>number_of_floors_with_extreme_damage</th>\n",
       "      <td>6.0</td>\n",
       "      <td>0.0</td>\n",
       "    </tr>\n",
       "    <tr>\n",
       "      <th>number_of_sprinkler_heads_operating</th>\n",
       "      <td>20.0</td>\n",
       "      <td>0.0</td>\n",
       "    </tr>\n",
       "  </tbody>\n",
       "</table>\n",
       "</div>"
      ],
      "text/plain": [
       "                                                  max        min\n",
       "incident_number                            21145805.0  3000001.0\n",
       "exposure_number                                   5.0        0.0\n",
       "suppression_units                              3333.0        0.0\n",
       "suppression_personnel                          5960.0        0.0\n",
       "ems_units                                       150.0        0.0\n",
       "ems_personnel                                   312.0        0.0\n",
       "other_units                                    1000.0        0.0\n",
       "other_personnel                                1000.0        0.0\n",
       "estimated_property_loss                   100000000.0   -25000.0\n",
       "estimated_contents_loss                   100000000.0    -5000.0\n",
       "fire_fatalities                                   2.0        0.0\n",
       "fire_injuries                                     9.0        0.0\n",
       "civilian_fatalities                               3.0        0.0\n",
       "civilian_injuries                                24.0        0.0\n",
       "number_of_alarms                                  5.0        1.0\n",
       "floor_of_fire_origin                            105.0       -3.0\n",
       "number_of_floors_with_minimum_damage              5.0        0.0\n",
       "number_of_floors_with_significant_damage          7.0        0.0\n",
       "number_of_floors_with_heavy_damage                5.0        0.0\n",
       "number_of_floors_with_extreme_damage              6.0        0.0\n",
       "number_of_sprinkler_heads_operating              20.0        0.0"
      ]
     },
     "execution_count": 43,
     "metadata": {},
     "output_type": "execute_result"
    }
   ],
   "source": [
    "df[numeric_cols_field].describe().loc[[\"max\", \"min\"]].T"
   ]
  },
  {
   "cell_type": "code",
   "execution_count": 44,
   "metadata": {},
   "outputs": [
    {
     "name": "stdout",
     "output_type": "stream",
     "text": [
      "<class 'pandas.core.frame.DataFrame'>\n",
      "RangeIndex: 573890 entries, 0 to 573889\n",
      "Data columns (total 21 columns):\n",
      " #   Column                                    Non-Null Count   Dtype  \n",
      "---  ------                                    --------------   -----  \n",
      " 0   incident_number                           573890 non-null  int64  \n",
      " 1   exposure_number                           573890 non-null  int64  \n",
      " 2   suppression_units                         573890 non-null  int64  \n",
      " 3   suppression_personnel                     573890 non-null  int64  \n",
      " 4   ems_units                                 573890 non-null  int64  \n",
      " 5   ems_personnel                             573890 non-null  int64  \n",
      " 6   other_units                               573890 non-null  int64  \n",
      " 7   other_personnel                           573890 non-null  int64  \n",
      " 8   estimated_property_loss                   130955 non-null  float64\n",
      " 9   estimated_contents_loss                   137942 non-null  float64\n",
      " 10  fire_fatalities                           573890 non-null  int64  \n",
      " 11  fire_injuries                             573890 non-null  int64  \n",
      " 12  civilian_fatalities                       573890 non-null  int64  \n",
      " 13  civilian_injuries                         573890 non-null  int64  \n",
      " 14  number_of_alarms                          573890 non-null  int64  \n",
      " 15  floor_of_fire_origin                      8807 non-null    float64\n",
      " 16  number_of_floors_with_minimum_damage      6636 non-null    float64\n",
      " 17  number_of_floors_with_significant_damage  6630 non-null    float64\n",
      " 18  number_of_floors_with_heavy_damage        6613 non-null    float64\n",
      " 19  number_of_floors_with_extreme_damage      6615 non-null    float64\n",
      " 20  number_of_sprinkler_heads_operating       6832 non-null    float64\n",
      "dtypes: float64(8), int64(13)\n",
      "memory usage: 91.9 MB\n"
     ]
    }
   ],
   "source": [
    "df[numeric_cols_field].info()"
   ]
  },
  {
   "cell_type": "code",
   "execution_count": 45,
   "metadata": {},
   "outputs": [
    {
     "data": {
      "text/plain": [
       "['incident_number',\n",
       " 'exposure_number',\n",
       " 'suppression_units',\n",
       " 'suppression_personnel',\n",
       " 'ems_units',\n",
       " 'ems_personnel',\n",
       " 'other_units',\n",
       " 'other_personnel',\n",
       " 'estimated_property_loss',\n",
       " 'estimated_contents_loss',\n",
       " 'fire_fatalities',\n",
       " 'fire_injuries',\n",
       " 'civilian_fatalities',\n",
       " 'civilian_injuries',\n",
       " 'number_of_alarms',\n",
       " 'floor_of_fire_origin',\n",
       " 'number_of_floors_with_minimum_damage',\n",
       " 'number_of_floors_with_significant_damage',\n",
       " 'number_of_floors_with_heavy_damage',\n",
       " 'number_of_floors_with_extreme_damage',\n",
       " 'number_of_sprinkler_heads_operating']"
      ]
     },
     "execution_count": 45,
     "metadata": {},
     "output_type": "execute_result"
    }
   ],
   "source": [
    "numeric_cols_field"
   ]
  },
  {
   "cell_type": "code",
   "execution_count": 46,
   "metadata": {},
   "outputs": [
    {
     "data": {
      "text/plain": [
       "True"
      ]
     },
     "execution_count": 46,
     "metadata": {},
     "output_type": "execute_result"
    }
   ],
   "source": [
    "df[\"incident_number\"].dtype == \"int64\""
   ]
  },
  {
   "cell_type": "markdown",
   "metadata": {},
   "source": [
    "### MySQL data types"
   ]
  },
  {
   "cell_type": "code",
   "execution_count": 47,
   "metadata": {},
   "outputs": [],
   "source": [
    "mysql_types = {}\n",
    "# data types for numeric columns\n",
    "for col in numeric_cols_field:\n",
    "    abs_max = np.max(np.abs(df[col]))\n",
    "    data_type = df[col].dtype\n",
    "    if data_type == \"float64\":\n",
    "        mysql_types[col] = \"FLOAT\"\n",
    "    elif abs_max > 1000000:\n",
    "        mysql_types[col] = \"INT\"\n",
    "    else:\n",
    "        mysql_types[col] = \"SMALLINT\""
   ]
  },
  {
   "cell_type": "code",
   "execution_count": 48,
   "metadata": {},
   "outputs": [],
   "source": [
    "# data types for timestamp columns\n",
    "time_cols = data_dict[data_dict[\"Data Type\"] == \"Date & Time\"][\"Field Name\"].unique()\n",
    "for col in download_meta_cols:\n",
    "    if col[\"name\"] in time_cols:\n",
    "        mysql_types[col[\"fieldName\"]] = \"TIMESTAMP\""
   ]
  },
  {
   "cell_type": "code",
   "execution_count": 49,
   "metadata": {},
   "outputs": [],
   "source": [
    "for col in download_meta_cols:\n",
    "    if (col[\"dataTypeName\"] == \"text\" \n",
    "        and col[\"name\"] not in time_cols):\n",
    "        mysql_types[col[\"fieldName\"]] = \"VARCHAR(255)\""
   ]
  },
  {
   "cell_type": "code",
   "execution_count": 50,
   "metadata": {},
   "outputs": [
    {
     "data": {
      "text/plain": [
       "[':sid',\n",
       " ':id',\n",
       " ':position',\n",
       " ':created_at',\n",
       " ':created_meta',\n",
       " ':updated_at',\n",
       " ':updated_meta',\n",
       " ':meta',\n",
       " 'point']"
      ]
     },
     "execution_count": 50,
     "metadata": {},
     "output_type": "execute_result"
    }
   ],
   "source": [
    "missing_keys = [ c for c in download_field_names if c not in mysql_types.keys() ]\n",
    "missing_keys"
   ]
  },
  {
   "cell_type": "code",
   "execution_count": 51,
   "metadata": {},
   "outputs": [],
   "source": [
    "mysql_types[\"latitude\"] = \"FLOAT\"\n",
    "mysql_types[\"longitude\"] = \"FLOAT\""
   ]
  },
  {
   "cell_type": "code",
   "execution_count": 52,
   "metadata": {},
   "outputs": [
    {
     "data": {
      "text/plain": [
       "{'FLOAT', 'INT', 'SMALLINT', 'TIMESTAMP', 'VARCHAR(255)'}"
      ]
     },
     "execution_count": 52,
     "metadata": {},
     "output_type": "execute_result"
    }
   ],
   "source": [
    "set(mysql_types.values())"
   ]
  },
  {
   "cell_type": "code",
   "execution_count": 53,
   "metadata": {},
   "outputs": [],
   "source": [
    "import pickle\n",
    "\n",
    "with open('../Files/mysql_data_types.pickle', 'wb') as handle:\n",
    "    pickle.dump(mysql_types, handle, protocol=pickle.HIGHEST_PROTOCOL)"
   ]
  },
  {
   "cell_type": "markdown",
   "metadata": {},
   "source": [
    "### Redshift data types"
   ]
  },
  {
   "cell_type": "code",
   "execution_count": 54,
   "metadata": {},
   "outputs": [],
   "source": [
    "rs_types = {}\n",
    "# data types for numeric columns\n",
    "for col in numeric_cols_field:\n",
    "    abs_max = np.max(np.abs(df[col]))\n",
    "    data_type = df[col].dtype\n",
    "    if abs_max > 10000:\n",
    "        if data_type == \"float64\":\n",
    "            rs_types[col] = \"DECIMAL(12,3)\"\n",
    "        else:\n",
    "            rs_types[col] = \"INTEGER\"\n",
    "    elif data_type == \"float64\":\n",
    "        rs_types[col] = \"DECIMAL(7,2)\"\n",
    "    else:\n",
    "        rs_types[col] = \"SMALLINT\""
   ]
  },
  {
   "cell_type": "code",
   "execution_count": 55,
   "metadata": {},
   "outputs": [],
   "source": [
    "# data types for timestamp columns\n",
    "time_cols = data_dict[data_dict[\"Data Type\"] == \"Date & Time\"][\"Field Name\"].unique()\n",
    "for col in download_meta_cols:\n",
    "    if col[\"name\"] in time_cols:\n",
    "        rs_types[col[\"fieldName\"]] = \"TIMESTAMP\""
   ]
  },
  {
   "cell_type": "code",
   "execution_count": 56,
   "metadata": {},
   "outputs": [],
   "source": [
    "for col in download_meta_cols:\n",
    "    if (col[\"dataTypeName\"] == \"text\" \n",
    "        and col[\"name\"] not in time_cols):\n",
    "        rs_types[col[\"fieldName\"]] = \"VARCHAR\""
   ]
  },
  {
   "cell_type": "code",
   "execution_count": 57,
   "metadata": {},
   "outputs": [
    {
     "data": {
      "text/plain": [
       "[':sid',\n",
       " ':id',\n",
       " ':position',\n",
       " ':created_at',\n",
       " ':created_meta',\n",
       " ':updated_at',\n",
       " ':updated_meta',\n",
       " ':meta',\n",
       " 'point']"
      ]
     },
     "execution_count": 57,
     "metadata": {},
     "output_type": "execute_result"
    }
   ],
   "source": [
    "missing_keys = [ c for c in download_field_names if c not in rs_types.keys() ]\n",
    "missing_keys"
   ]
  },
  {
   "cell_type": "code",
   "execution_count": 64,
   "metadata": {},
   "outputs": [],
   "source": [
    "rs_types[\"latitude\"] = \"DECIMAL(9,6)\"\n",
    "rs_types[\"longitude\"] = \"DECIMAL(9,6)\""
   ]
  },
  {
   "cell_type": "code",
   "execution_count": 65,
   "metadata": {},
   "outputs": [
    {
     "data": {
      "text/plain": [
       "{'DECIMAL(12,3)',\n",
       " 'DECIMAL(7,2)',\n",
       " 'DECIMAL(9,6)',\n",
       " 'INTEGER',\n",
       " 'SMALLINT',\n",
       " 'TIMESTAMP',\n",
       " 'VARCHAR'}"
      ]
     },
     "execution_count": 65,
     "metadata": {},
     "output_type": "execute_result"
    }
   ],
   "source": [
    "set(rs_types.values())"
   ]
  },
  {
   "cell_type": "code",
   "execution_count": 66,
   "metadata": {},
   "outputs": [],
   "source": [
    "import pickle\n",
    "\n",
    "with open('../Files/rs_data_types.pickle', 'wb') as handle:\n",
    "    pickle.dump(rs_types, handle, protocol=pickle.HIGHEST_PROTOCOL)"
   ]
  },
  {
   "cell_type": "markdown",
   "metadata": {},
   "source": [
    "### Checking out POINT datatype"
   ]
  },
  {
   "cell_type": "code",
   "execution_count": 61,
   "metadata": {},
   "outputs": [
    {
     "data": {
      "text/plain": [
       "{'type': 'Point', 'coordinates': [-122.41837339, 37.74208979]}"
      ]
     },
     "execution_count": 61,
     "metadata": {},
     "output_type": "execute_result"
    }
   ],
   "source": [
    "api_data[0][\"point\"]"
   ]
  },
  {
   "cell_type": "code",
   "execution_count": 62,
   "metadata": {},
   "outputs": [],
   "source": [
    "for i, item in enumerate(api_data):\n",
    "    item_point = item.get(\"point\")\n",
    "    if item_point:\n",
    "        point_type = item_point.get(\"type\")\n",
    "        if point_type != \"Point\":\n",
    "            print(i)\n",
    "            assert False"
   ]
  },
  {
   "cell_type": "code",
   "execution_count": 63,
   "metadata": {},
   "outputs": [
    {
     "data": {
      "text/plain": [
       "0    2008-04-01T00:00:00\n",
       "1    2008-04-01T00:00:00\n",
       "2    2008-04-01T00:00:00\n",
       "Name: incident_date, dtype: object"
      ]
     },
     "execution_count": 63,
     "metadata": {},
     "output_type": "execute_result"
    }
   ],
   "source": [
    "df[\"incident_date\"].head(3)"
   ]
  }
 ],
 "metadata": {
  "interpreter": {
   "hash": "1dc686f85a5ad0dc8f88371196f6d9bcbc99c5f892c56f26f15e8b0211144e5e"
  },
  "kernelspec": {
   "display_name": "Python 3.8.10 64-bit ('venv': venv)",
   "language": "python",
   "name": "python3"
  },
  "language_info": {
   "codemirror_mode": {
    "name": "ipython",
    "version": 3
   },
   "file_extension": ".py",
   "mimetype": "text/x-python",
   "name": "python",
   "nbconvert_exporter": "python",
   "pygments_lexer": "ipython3",
   "version": "3.8.10"
  },
  "orig_nbformat": 4
 },
 "nbformat": 4,
 "nbformat_minor": 2
}
